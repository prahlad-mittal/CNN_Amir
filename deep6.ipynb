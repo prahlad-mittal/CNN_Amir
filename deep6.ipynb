{
 "cells": [
  {
   "cell_type": "code",
   "execution_count": 1,
   "metadata": {},
   "outputs": [
    {
     "name": "stdout",
     "output_type": "stream",
     "text": [
      "HEADER: \"Time\",\"V1\",\"V2\",\"V3\",\"V4\",\"V5\",\"V6\",\"V7\",\"V8\",\"V9\",\"V10\",\"V11\",\"V12\",\"V13\",\"V14\",\"V15\",\"V16\",\"V17\",\"V18\",\"V19\",\"V20\",\"V21\",\"V22\",\"V23\",\"V24\",\"V25\",\"V26\",\"V27\",\"V28\",\"Amount\",\"Class\"\n",
      "EXAMPLE FEATURES: [0.0, -1.3598071336738, -0.0727811733098497, 2.53634673796914, 1.37815522427443, -0.338320769942518, 0.462387777762292, 0.239598554061257, 0.0986979012610507, 0.363786969611213, 0.0907941719789316, -0.551599533260813, -0.617800855762348, -0.991389847235408, -0.311169353699879, 1.46817697209427, -0.470400525259478, 0.207971241929242, 0.0257905801985591, 0.403992960255733, 0.251412098239705, -0.018306777944153, 0.277837575558899, -0.110473910188767, 0.0669280749146731, 0.128539358273528, -0.189114843888824, 0.133558376740387, -0.0210530534538215, 149.62]\n",
      "features.shape: (284807, 30)\n",
      "targets.shape: (284807, 1)\n"
     ]
    }
   ],
   "source": [
    "# First, vectorize the CSV data\n",
    "import csv\n",
    "import numpy as np\n",
    "\n",
    "fname = \"creditcard.csv\"\n",
    "\n",
    "all_features = []\n",
    "all_targets = []\n",
    "with open(fname) as f:\n",
    "    for i, line in enumerate(f):\n",
    "        if i == 0:\n",
    "            print(\"HEADER:\", line.strip())\n",
    "            continue  # Skip header\n",
    "        fields = line.strip().split(\",\")\n",
    "        all_features.append([float(v.replace('\"', \"\")) for v in fields[:-1]])\n",
    "        all_targets.append([int(fields[-1].replace('\"', \"\"))])\n",
    "        if i == 1:\n",
    "            print(\"EXAMPLE FEATURES:\", all_features[-1])\n",
    "\n",
    "features = np.array(all_features, dtype=\"float32\")\n",
    "targets = np.array(all_targets, dtype=\"uint8\")\n",
    "print(\"features.shape:\", features.shape)\n",
    "print(\"targets.shape:\", targets.shape)"
   ]
  },
  {
   "cell_type": "code",
   "execution_count": 2,
   "metadata": {},
   "outputs": [
    {
     "name": "stdout",
     "output_type": "stream",
     "text": [
      "Number of training samples: 227846\n",
      "Number of validation samples: 56961\n"
     ]
    }
   ],
   "source": [
    "# Prepare a validation set\n",
    "num_val_samples = int(len(features) * 0.2)\n",
    "train_features = features[:-num_val_samples]\n",
    "train_targets = targets[:-num_val_samples]\n",
    "val_features = features[-num_val_samples:]\n",
    "val_targets = targets[-num_val_samples:]\n",
    "\n",
    "print(\"Number of training samples:\", len(train_features))\n",
    "print(\"Number of validation samples:\", len(val_features))"
   ]
  },
  {
   "cell_type": "code",
   "execution_count": 3,
   "metadata": {},
   "outputs": [
    {
     "name": "stdout",
     "output_type": "stream",
     "text": [
      "Number of positive samples in training data: 417 (0.18% of total)\n"
     ]
    }
   ],
   "source": [
    "# Analyze class imbalance in the targets\n",
    "counts = np.bincount(train_targets[:, 0])\n",
    "print(\n",
    "    \"Number of positive samples in training data: {} ({:.2f}% of total)\".format(\n",
    "        counts[1], 100 * float(counts[1]) / len(train_targets)\n",
    "    )\n",
    ")\n",
    "\n",
    "weight_for_0 = 1.0 / counts[0]\n",
    "weight_for_1 = 1.0 / counts[1]"
   ]
  },
  {
   "cell_type": "code",
   "execution_count": 4,
   "metadata": {},
   "outputs": [],
   "source": [
    "# Normalize the data using training set statistics\n",
    "mean = np.mean(train_features, axis=0)\n",
    "train_features -= mean\n",
    "val_features -= mean\n",
    "std = np.std(train_features, axis=0)\n",
    "train_features /= std\n",
    "val_features /= std\n"
   ]
  },
  {
   "cell_type": "code",
   "execution_count": 5,
   "metadata": {},
   "outputs": [
    {
     "name": "stdout",
     "output_type": "stream",
     "text": [
      "Model: \"sequential\"\n",
      "_________________________________________________________________\n",
      "Layer (type)                 Output Shape              Param #   \n",
      "=================================================================\n",
      "dense (Dense)                (None, 256)               7936      \n",
      "_________________________________________________________________\n",
      "dense_1 (Dense)              (None, 256)               65792     \n",
      "_________________________________________________________________\n",
      "dropout (Dropout)            (None, 256)               0         \n",
      "_________________________________________________________________\n",
      "dense_2 (Dense)              (None, 256)               65792     \n",
      "_________________________________________________________________\n",
      "dropout_1 (Dropout)          (None, 256)               0         \n",
      "_________________________________________________________________\n",
      "dense_3 (Dense)              (None, 1)                 257       \n",
      "=================================================================\n",
      "Total params: 139,777\n",
      "Trainable params: 139,777\n",
      "Non-trainable params: 0\n",
      "_________________________________________________________________\n"
     ]
    }
   ],
   "source": [
    "# Build a binary classification model\n",
    "from tensorflow import keras\n",
    "\n",
    "model = keras.Sequential(\n",
    "    [\n",
    "        keras.layers.Dense(\n",
    "            256, activation=\"relu\", input_shape=(train_features.shape[-1],)\n",
    "        ),\n",
    "        keras.layers.Dense(256, activation=\"relu\"),\n",
    "        keras.layers.Dropout(0.3),\n",
    "        keras.layers.Dense(256, activation=\"relu\"),\n",
    "        keras.layers.Dropout(0.3),\n",
    "        keras.layers.Dense(1, activation=\"sigmoid\"),\n",
    "    ]\n",
    ")\n",
    "model.summary()"
   ]
  },
  {
   "cell_type": "code",
   "execution_count": 6,
   "metadata": {},
   "outputs": [
    {
     "name": "stdout",
     "output_type": "stream",
     "text": [
      "WARNING:tensorflow:From C:\\Users\\sleam\\Anaconda3\\lib\\site-packages\\tensorflow\\python\\ops\\array_ops.py:5043: calling gather (from tensorflow.python.ops.array_ops) with validate_indices is deprecated and will be removed in a future version.\n",
      "Instructions for updating:\n",
      "The `validate_indices` argument has no effect. Indices are always validated on CPU and never validated on GPU.\n",
      "Epoch 1/30\n",
      "112/112 - 8s - loss: 2.1591e-06 - fn: 41.0000 - fp: 19387.0000 - tn: 208042.0000 - tp: 376.0000 - precision: 0.0190 - recall: 0.9017 - val_loss: 0.1734 - val_fn: 6.0000 - val_fp: 2485.0000 - val_tn: 54401.0000 - val_tp: 69.0000 - val_precision: 0.0270 - val_recall: 0.9200\n",
      "Epoch 2/30\n",
      "112/112 - 5s - loss: 1.5606e-06 - fn: 31.0000 - fp: 8198.0000 - tn: 219231.0000 - tp: 386.0000 - precision: 0.0450 - recall: 0.9257 - val_loss: 0.0270 - val_fn: 13.0000 - val_fp: 68.0000 - val_tn: 56818.0000 - val_tp: 62.0000 - val_precision: 0.4769 - val_recall: 0.8267\n",
      "Epoch 3/30\n",
      "112/112 - 4s - loss: 1.2809e-06 - fn: 32.0000 - fp: 7469.0000 - tn: 219960.0000 - tp: 385.0000 - precision: 0.0490 - recall: 0.9233 - val_loss: 0.0799 - val_fn: 8.0000 - val_fp: 1745.0000 - val_tn: 55141.0000 - val_tp: 67.0000 - val_precision: 0.0370 - val_recall: 0.8933\n",
      "Epoch 4/30\n",
      "112/112 - 5s - loss: 1.1356e-06 - fn: 23.0000 - fp: 7289.0000 - tn: 220140.0000 - tp: 394.0000 - precision: 0.0513 - recall: 0.9448 - val_loss: 0.0578 - val_fn: 8.0000 - val_fp: 901.0000 - val_tn: 55985.0000 - val_tp: 67.0000 - val_precision: 0.0692 - val_recall: 0.8933\n",
      "Epoch 5/30\n",
      "112/112 - 5s - loss: 1.0847e-06 - fn: 22.0000 - fp: 6643.0000 - tn: 220786.0000 - tp: 395.0000 - precision: 0.0561 - recall: 0.9472 - val_loss: 0.1046 - val_fn: 5.0000 - val_fp: 1781.0000 - val_tn: 55105.0000 - val_tp: 70.0000 - val_precision: 0.0378 - val_recall: 0.9333\n",
      "Epoch 6/30\n",
      "112/112 - 5s - loss: 8.6184e-07 - fn: 19.0000 - fp: 6444.0000 - tn: 220985.0000 - tp: 398.0000 - precision: 0.0582 - recall: 0.9544 - val_loss: 0.0571 - val_fn: 10.0000 - val_fp: 736.0000 - val_tn: 56150.0000 - val_tp: 65.0000 - val_precision: 0.0811 - val_recall: 0.8667\n",
      "Epoch 7/30\n",
      "112/112 - 5s - loss: 8.8885e-07 - fn: 16.0000 - fp: 8517.0000 - tn: 218912.0000 - tp: 401.0000 - precision: 0.0450 - recall: 0.9616 - val_loss: 0.0890 - val_fn: 8.0000 - val_fp: 1535.0000 - val_tn: 55351.0000 - val_tp: 67.0000 - val_precision: 0.0418 - val_recall: 0.8933\n",
      "Epoch 8/30\n",
      "112/112 - 4s - loss: 9.1964e-07 - fn: 20.0000 - fp: 6617.0000 - tn: 220812.0000 - tp: 397.0000 - precision: 0.0566 - recall: 0.9520 - val_loss: 0.0185 - val_fn: 13.0000 - val_fp: 202.0000 - val_tn: 56684.0000 - val_tp: 62.0000 - val_precision: 0.2348 - val_recall: 0.8267\n",
      "Epoch 9/30\n",
      "112/112 - 4s - loss: 7.3258e-07 - fn: 14.0000 - fp: 6696.0000 - tn: 220733.0000 - tp: 403.0000 - precision: 0.0568 - recall: 0.9664 - val_loss: 0.0845 - val_fn: 7.0000 - val_fp: 1653.0000 - val_tn: 55233.0000 - val_tp: 68.0000 - val_precision: 0.0395 - val_recall: 0.9067\n",
      "Epoch 10/30\n",
      "112/112 - 5s - loss: 7.9486e-07 - fn: 12.0000 - fp: 7741.0000 - tn: 219688.0000 - tp: 405.0000 - precision: 0.0497 - recall: 0.9712 - val_loss: 0.1967 - val_fn: 3.0000 - val_fp: 5323.0000 - val_tn: 51563.0000 - val_tp: 72.0000 - val_precision: 0.0133 - val_recall: 0.9600\n",
      "Epoch 11/30\n",
      "112/112 - 4s - loss: 7.1131e-07 - fn: 10.0000 - fp: 7879.0000 - tn: 219550.0000 - tp: 407.0000 - precision: 0.0491 - recall: 0.9760 - val_loss: 0.0233 - val_fn: 9.0000 - val_fp: 386.0000 - val_tn: 56500.0000 - val_tp: 66.0000 - val_precision: 0.1460 - val_recall: 0.8800\n",
      "Epoch 12/30\n",
      "112/112 - 4s - loss: 5.0069e-07 - fn: 11.0000 - fp: 4682.0000 - tn: 222747.0000 - tp: 406.0000 - precision: 0.0798 - recall: 0.9736 - val_loss: 0.0950 - val_fn: 7.0000 - val_fp: 1528.0000 - val_tn: 55358.0000 - val_tp: 68.0000 - val_precision: 0.0426 - val_recall: 0.9067\n",
      "Epoch 13/30\n",
      "112/112 - 5s - loss: 5.7175e-07 - fn: 8.0000 - fp: 5539.0000 - tn: 221890.0000 - tp: 409.0000 - precision: 0.0688 - recall: 0.9808 - val_loss: 0.0287 - val_fn: 9.0000 - val_fp: 614.0000 - val_tn: 56272.0000 - val_tp: 66.0000 - val_precision: 0.0971 - val_recall: 0.8800\n",
      "Epoch 14/30\n",
      "112/112 - 5s - loss: 4.2494e-07 - fn: 6.0000 - fp: 4735.0000 - tn: 222694.0000 - tp: 411.0000 - precision: 0.0799 - recall: 0.9856 - val_loss: 0.0200 - val_fn: 10.0000 - val_fp: 442.0000 - val_tn: 56444.0000 - val_tp: 65.0000 - val_precision: 0.1282 - val_recall: 0.8667\n",
      "Epoch 15/30\n",
      "112/112 - 5s - loss: 8.1600e-07 - fn: 10.0000 - fp: 5517.0000 - tn: 221912.0000 - tp: 407.0000 - precision: 0.0687 - recall: 0.9760 - val_loss: 0.0968 - val_fn: 7.0000 - val_fp: 2057.0000 - val_tn: 54829.0000 - val_tp: 68.0000 - val_precision: 0.0320 - val_recall: 0.9067\n",
      "Epoch 16/30\n",
      "112/112 - 5s - loss: 6.1666e-07 - fn: 6.0000 - fp: 6090.0000 - tn: 221339.0000 - tp: 411.0000 - precision: 0.0632 - recall: 0.9856 - val_loss: 0.0226 - val_fn: 10.0000 - val_fp: 404.0000 - val_tn: 56482.0000 - val_tp: 65.0000 - val_precision: 0.1386 - val_recall: 0.8667\n",
      "Epoch 17/30\n",
      "112/112 - 5s - loss: 9.5965e-07 - fn: 10.0000 - fp: 7627.0000 - tn: 219802.0000 - tp: 407.0000 - precision: 0.0507 - recall: 0.9760 - val_loss: 0.0846 - val_fn: 9.0000 - val_fp: 1207.0000 - val_tn: 55679.0000 - val_tp: 66.0000 - val_precision: 0.0518 - val_recall: 0.8800\n",
      "Epoch 18/30\n",
      "112/112 - 5s - loss: 5.8925e-07 - fn: 8.0000 - fp: 6380.0000 - tn: 221049.0000 - tp: 409.0000 - precision: 0.0602 - recall: 0.9808 - val_loss: 0.0359 - val_fn: 8.0000 - val_fp: 767.0000 - val_tn: 56119.0000 - val_tp: 67.0000 - val_precision: 0.0803 - val_recall: 0.8933\n",
      "Epoch 19/30\n",
      "112/112 - 5s - loss: 1.4062e-06 - fn: 11.0000 - fp: 6612.0000 - tn: 220817.0000 - tp: 406.0000 - precision: 0.0579 - recall: 0.9736 - val_loss: 0.0465 - val_fn: 10.0000 - val_fp: 461.0000 - val_tn: 56425.0000 - val_tp: 65.0000 - val_precision: 0.1236 - val_recall: 0.8667\n",
      "Epoch 20/30\n",
      "112/112 - 5s - loss: 1.1693e-06 - fn: 16.0000 - fp: 6289.0000 - tn: 221140.0000 - tp: 401.0000 - precision: 0.0599 - recall: 0.9616 - val_loss: 0.0627 - val_fn: 8.0000 - val_fp: 1146.0000 - val_tn: 55740.0000 - val_tp: 67.0000 - val_precision: 0.0552 - val_recall: 0.8933\n",
      "Epoch 21/30\n",
      "112/112 - 5s - loss: 6.1769e-07 - fn: 8.0000 - fp: 5199.0000 - tn: 222230.0000 - tp: 409.0000 - precision: 0.0729 - recall: 0.9808 - val_loss: 0.0353 - val_fn: 9.0000 - val_fp: 630.0000 - val_tn: 56256.0000 - val_tp: 66.0000 - val_precision: 0.0948 - val_recall: 0.8800\n",
      "Epoch 22/30\n",
      "112/112 - 5s - loss: 5.2234e-07 - fn: 5.0000 - fp: 4080.0000 - tn: 223349.0000 - tp: 412.0000 - precision: 0.0917 - recall: 0.9880 - val_loss: 0.0311 - val_fn: 13.0000 - val_fp: 409.0000 - val_tn: 56477.0000 - val_tp: 62.0000 - val_precision: 0.1316 - val_recall: 0.8267\n",
      "Epoch 23/30\n",
      "112/112 - 5s - loss: 1.7762e-06 - fn: 8.0000 - fp: 4337.0000 - tn: 223092.0000 - tp: 409.0000 - precision: 0.0862 - recall: 0.9808 - val_loss: 0.0713 - val_fn: 7.0000 - val_fp: 694.0000 - val_tn: 56192.0000 - val_tp: 68.0000 - val_precision: 0.0892 - val_recall: 0.9067\n",
      "Epoch 24/30\n",
      "112/112 - 5s - loss: 2.5329e-06 - fn: 10.0000 - fp: 3795.0000 - tn: 223634.0000 - tp: 407.0000 - precision: 0.0969 - recall: 0.9760 - val_loss: 0.3325 - val_fn: 8.0000 - val_fp: 1404.0000 - val_tn: 55482.0000 - val_tp: 67.0000 - val_precision: 0.0455 - val_recall: 0.8933\n",
      "Epoch 25/30\n",
      "112/112 - 4s - loss: 7.3728e-07 - fn: 11.0000 - fp: 4486.0000 - tn: 222943.0000 - tp: 406.0000 - precision: 0.0830 - recall: 0.9736 - val_loss: 0.0245 - val_fn: 11.0000 - val_fp: 426.0000 - val_tn: 56460.0000 - val_tp: 64.0000 - val_precision: 0.1306 - val_recall: 0.8533\n",
      "Epoch 26/30\n",
      "112/112 - 4s - loss: 4.3840e-07 - fn: 5.0000 - fp: 3356.0000 - tn: 224073.0000 - tp: 412.0000 - precision: 0.1093 - recall: 0.9880 - val_loss: 0.0363 - val_fn: 8.0000 - val_fp: 471.0000 - val_tn: 56415.0000 - val_tp: 67.0000 - val_precision: 0.1245 - val_recall: 0.8933\n",
      "Epoch 27/30\n",
      "112/112 - 4s - loss: 5.7998e-07 - fn: 4.0000 - fp: 4779.0000 - tn: 222650.0000 - tp: 413.0000 - precision: 0.0795 - recall: 0.9904 - val_loss: 0.0378 - val_fn: 8.0000 - val_fp: 1119.0000 - val_tn: 55767.0000 - val_tp: 67.0000 - val_precision: 0.0565 - val_recall: 0.8933\n",
      "Epoch 28/30\n",
      "112/112 - 4s - loss: 3.3456e-07 - fn: 3.0000 - fp: 3193.0000 - tn: 224236.0000 - tp: 414.0000 - precision: 0.1148 - recall: 0.9928 - val_loss: 0.0148 - val_fn: 10.0000 - val_fp: 261.0000 - val_tn: 56625.0000 - val_tp: 65.0000 - val_precision: 0.1994 - val_recall: 0.8667\n"
     ]
    },
    {
     "name": "stdout",
     "output_type": "stream",
     "text": [
      "Epoch 29/30\n",
      "112/112 - 4s - loss: 3.3417e-07 - fn: 3.0000 - fp: 2429.0000 - tn: 225000.0000 - tp: 414.0000 - precision: 0.1456 - recall: 0.9928 - val_loss: 0.0306 - val_fn: 9.0000 - val_fp: 596.0000 - val_tn: 56290.0000 - val_tp: 66.0000 - val_precision: 0.0997 - val_recall: 0.8800\n",
      "Epoch 30/30\n",
      "112/112 - 4s - loss: 3.7633e-07 - fn: 4.0000 - fp: 3377.0000 - tn: 224052.0000 - tp: 413.0000 - precision: 0.1090 - recall: 0.9904 - val_loss: 0.0235 - val_fn: 8.0000 - val_fp: 528.0000 - val_tn: 56358.0000 - val_tp: 67.0000 - val_precision: 0.1126 - val_recall: 0.8933\n"
     ]
    },
    {
     "data": {
      "text/plain": [
       "<tensorflow.python.keras.callbacks.History at 0x1f4cc905a60>"
      ]
     },
     "execution_count": 6,
     "metadata": {},
     "output_type": "execute_result"
    }
   ],
   "source": [
    "# Train the model with class_weight argument\n",
    "metrics = [\n",
    "    keras.metrics.FalseNegatives(name=\"fn\"),\n",
    "    keras.metrics.FalsePositives(name=\"fp\"),\n",
    "    keras.metrics.TrueNegatives(name=\"tn\"),\n",
    "    keras.metrics.TruePositives(name=\"tp\"),\n",
    "    keras.metrics.Precision(name=\"precision\"),\n",
    "    keras.metrics.Recall(name=\"recall\"),\n",
    "]\n",
    "\n",
    "model.compile(\n",
    "    optimizer=keras.optimizers.Adam(1e-2), loss=\"binary_crossentropy\", metrics=metrics\n",
    ")\n",
    "\n",
    "callbacks = [keras.callbacks.ModelCheckpoint(\"fraud_model_at_epoch_{epoch}.h5\")]\n",
    "class_weight = {0: weight_for_0, 1: weight_for_1}\n",
    "\n",
    "model.fit(\n",
    "    train_features,\n",
    "    train_targets,\n",
    "    batch_size=2048,\n",
    "    epochs=30,\n",
    "    verbose=2,\n",
    "    callbacks=callbacks,\n",
    "    validation_data=(val_features, val_targets),\n",
    "    class_weight=class_weight,\n",
    ")"
   ]
  }
 ],
 "metadata": {
  "kernelspec": {
   "display_name": "Python 3",
   "language": "python",
   "name": "python3"
  },
  "language_info": {
   "codemirror_mode": {
    "name": "ipython",
    "version": 3
   },
   "file_extension": ".py",
   "mimetype": "text/x-python",
   "name": "python",
   "nbconvert_exporter": "python",
   "pygments_lexer": "ipython3",
   "version": "3.8.8"
  }
 },
 "nbformat": 4,
 "nbformat_minor": 2
}
