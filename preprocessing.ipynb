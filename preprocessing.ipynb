{
 "cells": [
  {
   "cell_type": "markdown",
   "metadata": {},
   "source": [
    "# Handling MISSING VALUES"
   ]
  },
  {
   "cell_type": "code",
   "execution_count": 7,
   "metadata": {},
   "outputs": [
    {
     "name": "stdout",
     "output_type": "stream",
     "text": [
      "Shape before removing missing value =  (11, 4)\n",
      "    Country  Hours   Salary House\n",
      "0    France     34  12000.0    No\n",
      "1     Spain     37  49000.0   Yes\n",
      "2   Germany     20  34000.0    No\n",
      "3     Spain     58  41000.0    No\n",
      "4   Germany     40  43333.0   Yes\n",
      "5    France     45  28000.0   Yes\n",
      "6     Spain     40  51000.0    No\n",
      "7    France     28  89000.0   Yes\n",
      "8   Germany     50  53000.0    No\n",
      "9    France     47  33000.0   Yes\n",
      "10  Germany     38      NaN    No\n",
      "\n",
      "\n",
      "Number of missing values =  1\n",
      "Shape after removing the row with missing value =  (10, 4)\n",
      "Shape after removing the col with missing value =  (11, 3)\n"
     ]
    }
   ],
   "source": [
    "# Handling MISSING VALUES\n",
    "# DROP ROWS or COLUMNS\n",
    "#Main Libraries\n",
    "import pandas as pd\n",
    "\n",
    "# Read the data in the CSV file using pandas\n",
    "df = pd.read_csv('/Users/manoranjandash/Desktop/SCALE_TEACHING/MLCourse_SEPT/creditcardfraud/data1.csv')\n",
    "\n",
    "print(\"Shape before removing missing value = \", df.shape)\n",
    "print(df)\n",
    "print('\\n')\n",
    "\n",
    "print(\"Number of missing values = \", df.isnull().any().sum())\n",
    "#Drop the rows where at least one element is missing.\n",
    "#df.dropna()\n",
    "print(\"Shape after removing the row with missing value = \", df.dropna().shape)\n",
    "print(\"Shape after removing the col with missing value = \", df.dropna(axis=1).shape)\n"
   ]
  },
  {
   "cell_type": "code",
   "execution_count": 8,
   "metadata": {},
   "outputs": [
    {
     "name": "stdout",
     "output_type": "stream",
     "text": [
      "Total missing values before IMPUTATION:  1\n",
      "Total missing values after IMPUTATION:  0\n",
      "IMPUTED VALUE =  43333.3\n",
      "    Country  Hours   Salary House\n",
      "0    France     34  12000.0    No\n",
      "1     Spain     37  49000.0   Yes\n",
      "2   Germany     20  34000.0    No\n",
      "3     Spain     58  41000.0    No\n",
      "4   Germany     40  43333.0   Yes\n",
      "5    France     45  28000.0   Yes\n",
      "6     Spain     40  51000.0    No\n",
      "7    France     28  89000.0   Yes\n",
      "8   Germany     50  53000.0    No\n",
      "9    France     47  33000.0   Yes\n",
      "10  Germany     38  43333.3    No\n"
     ]
    }
   ],
   "source": [
    "# Handling MISSING VALUES\n",
    "# IMPUTE\n",
    "import pandas as pd\n",
    "# Read the data in the CSV file using pandas\n",
    "#df = pd.read_csv('C:\\\\Users\\\\mdash\\\\Desktop\\\\MLCourse_SEPT\\\\creditcardfraud\\\\data1.csv')\n",
    "df = pd.read_csv('/Users/manoranjandash/Desktop/SCALE_TEACHING/MLCourse_SEPT/creditcardfraud/data1.csv')\n",
    "\n",
    "print(\"Total missing values before IMPUTATION: \", df.isnull().any().sum())\n",
    "\n",
    "# fill missing values with mean column values\n",
    "df.fillna(df.mean(), inplace=True)\n",
    "print(\"Total missing values after IMPUTATION: \", df.isnull().any().sum())\n",
    "print(\"IMPUTED VALUE = \", df.Salary[10])\n",
    "print(df)"
   ]
  },
  {
   "cell_type": "markdown",
   "metadata": {},
   "source": [
    "# LABELENCODER"
   ]
  },
  {
   "cell_type": "code",
   "execution_count": 134,
   "metadata": {},
   "outputs": [
    {
     "name": "stdout",
     "output_type": "stream",
     "text": [
      "Before LabelEncoding: \n",
      "    Country  Hours        Salary House\n",
      "0    France     34 12000.0000000    No\n",
      "1     Spain     37 49000.0000000   Yes\n",
      "2   Germany     20 34000.0000000    No\n",
      "3     Spain     58 41000.0000000    No\n",
      "4   Germany     40 43333.0000000   Yes\n",
      "5    France     45 28000.0000000   Yes\n",
      "6     Spain     40 51000.0000000    No\n",
      "7    France     28 89000.0000000   Yes\n",
      "8   Germany     50 53000.0000000    No\n",
      "9    France     47 33000.0000000   Yes\n",
      "10  Germany     38           nan    No\n",
      "\n",
      "\n",
      "After LabelEncoding: \n",
      "[[0 34 12000.0]\n",
      " [2 37 49000.0]\n",
      " [1 20 34000.0]\n",
      " [2 58 41000.0]\n",
      " [1 40 43333.0]\n",
      " [0 45 28000.0]\n",
      " [2 40 51000.0]\n",
      " [0 28 89000.0]\n",
      " [1 50 53000.0]\n",
      " [0 47 33000.0]\n",
      " [1 38 nan]]\n",
      "Mapping:  {'France': 0, 'Germany': 1, 'Spain': 2}\n"
     ]
    }
   ],
   "source": [
    "#LABELENCODER\n",
    "import numpy as np\n",
    "import pandas as pd\n",
    "from sklearn.preprocessing import LabelEncoder\n",
    "\n",
    "# Read the dataset from csv fiel using pandas library\n",
    "dataset = pd.read_csv('/Users/manoranjandash/Desktop/SCALE_TEACHING/MLCourse_SEPT/creditcardfraud/data1.csv')\n",
    "print(\"Before LabelEncoding: \")\n",
    "print(dataset)\n",
    "print('\\n')\n",
    "# Create a matrix X of independent variables Country, Hours, Salary\n",
    "X = dataset.iloc[:, :-1].values # Here first : means fetch all rows :-1 means except last column\n",
    "Y = dataset.iloc[:, 3].values # : is fetch all rows 3 means 3rd column\n",
    "\n",
    "# Let's create an object of the class LabelEncoder\n",
    "labelencoder_X = LabelEncoder()\n",
    "X[:, 0] = labelencoder_X.fit_transform(X[:, 0]) # All rows and first column i.e country column\n",
    "print(\"After LabelEncoding: \")\n",
    "print(X)\n",
    "le_name_mapping = dict(zip(labelencoder_X.classes_, labelencoder_X.transform(labelencoder_X.classes_)))\n",
    "print(\"Mapping: \", le_name_mapping)\n"
   ]
  },
  {
   "cell_type": "markdown",
   "metadata": {},
   "source": [
    "# ONE HOT ENCODING using sklearn.preprocessing.OneHotEncoder and pandas.get_dummies"
   ]
  },
  {
   "cell_type": "code",
   "execution_count": 69,
   "metadata": {},
   "outputs": [
    {
     "name": "stdout",
     "output_type": "stream",
     "text": [
      "   Country  Hours   Salary House\n",
      "0   France     34  12000.0    No\n",
      "1    Spain     37  49000.0   Yes\n",
      "2  Germany     20  34000.0    No\n",
      "3    Spain     58  41000.0    No\n",
      "4  Germany     40  43333.0   Yes\n",
      "5   France     45  28000.0   Yes\n",
      "6    Spain     40  51000.0    No\n",
      "7   France     28  89000.0   Yes\n",
      "8  Germany     50  53000.0    No\n",
      "9   France     47  33000.0   Yes\n",
      "\n",
      "ONE HOT ENCODING using sklearn.OneHotEncoder:\n",
      "   Country_France  Country_Germany  Country_Spain  Hours  Salary\n",
      "0               1                0              0     34   12000\n",
      "1               0                0              1     37   49000\n",
      "2               0                1              0     20   34000\n",
      "3               0                0              1     58   41000\n",
      "4               0                1              0     40   43333\n",
      "5               1                0              0     45   28000\n",
      "6               0                0              1     40   51000\n",
      "7               1                0              0     28   89000\n",
      "8               0                1              0     50   53000\n",
      "9               1                0              0     47   33000\n",
      "\n",
      "ONE HOT ENCODING using pandas.getDummies():\n",
      "   Hours   Salary  Country_France  Country_Germany  Country_Spain\n",
      "0     34  12000.0               1                0              0\n",
      "1     37  49000.0               0                0              1\n",
      "2     20  34000.0               0                1              0\n",
      "3     58  41000.0               0                0              1\n",
      "4     40  43333.0               0                1              0\n",
      "5     45  28000.0               1                0              0\n",
      "6     40  51000.0               0                0              1\n",
      "7     28  89000.0               1                0              0\n",
      "8     50  53000.0               0                1              0\n",
      "9     47  33000.0               1                0              0\n"
     ]
    }
   ],
   "source": [
    "#ONE HOT ENCODING using sklearn.preprocessing.OneHotEncoder and pandas.get_dummies\n",
    "import pandas as pd\n",
    "from numpy import array\n",
    "from numpy import argmax\n",
    "import numpy as np\n",
    "from sklearn.preprocessing import OneHotEncoder\n",
    "from sklearn.preprocessing import LabelEncoder\n",
    "\n",
    "# Read the dataset from csv fiel using pandas library\n",
    "#dataset = pd.read_csv('data.csv')\n",
    "df = pd.read_csv('/Users/manoranjandash/Desktop/SCALE_TEACHING/MLCourse_SEPT/creditcardfraud/data1.csv')\n",
    "dataset = df.dropna()\n",
    "print(dataset)\n",
    "\n",
    "# ONE HOT ENCODING using sklearn OneHotEncoder\n",
    "# Create a matrix X of independent variables Country, Hours, Salary\n",
    "X = dataset.iloc[:, :-1].values # Here first : means fetch all rows :-1 means except last column\n",
    "data = X[:, 0]\n",
    "values = array(data)\n",
    "\n",
    "values = values.reshape(len(values), 1)\n",
    "onehot_encoded = OneHotEncoder().fit_transform(values).toarray()\n",
    "X1 = np.zeros((10, 5), dtype=int)\n",
    "X1[:, 0:3] = onehot_encoded\n",
    "X1[:, 3] = X[:, 1]\n",
    "X1[:, 4] = X[:, 2]\n",
    "print(\"\\nONE HOT ENCODING using sklearn.OneHotEncoder:\")\n",
    "df1 = pd.DataFrame(X1)\n",
    "df1.columns = ['Country_France', 'Country_Germany', 'Country_Spain', 'Hours', 'Salary']\n",
    "print(df1)\n",
    "\n",
    "# ONE HOT ENCODING using sklearn pandas.getDummies()\n",
    "print(\"\\nONE HOT ENCODING using pandas.get_dummies():\")\n",
    "print(pd.get_dummies(dataset.iloc[:, :-1]))"
   ]
  },
  {
   "cell_type": "markdown",
   "metadata": {},
   "source": [
    "# DIFFERENCE BETWEEN MinMaxScaler, Normalize and StandardScaler"
   ]
  },
  {
   "cell_type": "code",
   "execution_count": 135,
   "metadata": {},
   "outputs": [
    {
     "name": "stdout",
     "output_type": "stream",
     "text": [
      "ORIGINAL DATA:\n",
      "   COL1  COL2  COL3  COL4\n",
      "0     1    10   100  1000\n",
      "1     2    20   200  2000\n",
      "2     3    30   300  3000\n",
      "\n",
      "MinMaxScaler DATA:\n",
      "       COL1      COL2      COL3      COL4\n",
      "0 0.0000000 0.0000000 0.0000000 0.0000000\n",
      "1 0.5000000 0.5000000 0.5000000 0.5000000\n",
      "2 1.0000000 1.0000000 1.0000000 1.0000000\n",
      "\n",
      "Normalize DATA:\n",
      "          0         1         2         3\n",
      "0 0.0009950 0.0099499 0.0994987 0.9949874\n",
      "1 0.0009950 0.0099499 0.0994987 0.9949874\n",
      "2 0.0009950 0.0099499 0.0994987 0.9949874\n",
      "\n",
      "Standardize DATA:\n",
      "           0          1          2          3\n",
      "0 -1.2247449 -1.2247449 -1.2247449 -1.2247449\n",
      "1  0.0000000  0.0000000  0.0000000  0.0000000\n",
      "2  1.2247449  1.2247449  1.2247449  1.2247449\n"
     ]
    }
   ],
   "source": [
    "# DIFFERENCE BETWEEN MinMaxScale Normalize and StandardScaler\n",
    "from sklearn.preprocessing import MinMaxScaler\n",
    "from sklearn.preprocessing import StandardScaler\n",
    "from sklearn.preprocessing import normalize\n",
    "\n",
    "df = pd.DataFrame({'COL1': [1,2,3], 'COL2': [10,20,30],\\\n",
    "                   'COL3': [100,200,300], 'COL4': [1000,2000,3000]})\n",
    "df.columns=['COL1', 'COL2', 'COL3', 'COL4']\n",
    "print('ORIGINAL DATA:')\n",
    "print(df)\n",
    "\n",
    "x = df.values #returns a numpy array\n",
    "min_max_scaler = preprocessing.MinMaxScaler()\n",
    "x_scaled = min_max_scaler.fit_transform(x)\n",
    "df1 = pd.DataFrame(x_scaled)\n",
    "df1.columns=['COL1', 'COL2', 'COL3', 'COL4']\n",
    "print('\\nMinMaxScaler DATA:')\n",
    "print(df1)\n",
    "\n",
    "df2 = preprocessing.normalize(x)\n",
    "df2_2 = pd.DataFrame(df2)\n",
    "print('\\nNormalize DATA:')\n",
    "print(df2_2.round(10))\n",
    "\n",
    "standard_scaler = preprocessing.StandardScaler()\n",
    "x_standardized = standard_scaler.fit_transform(x)\n",
    "df3 = pd.DataFrame(x_standardized)\n",
    "print('\\nStandardize DATA:')\n",
    "print(df3)"
   ]
  },
  {
   "cell_type": "markdown",
   "metadata": {},
   "source": [
    "# PCA: PRINCIPAL COMPONENTS ANALYSIS for Visualization"
   ]
  },
  {
   "cell_type": "code",
   "execution_count": 105,
   "metadata": {},
   "outputs": [],
   "source": [
    "import pandas as pd\n",
    "url = \"https://archive.ics.uci.edu/ml/machine-learning-databases/iris/iris.data\"\n",
    "# load dataset into Pandas DataFrame\n",
    "df = pd.read_csv(url, names=['sepal length','sepal width','petal length','petal width','target'])"
   ]
  },
  {
   "cell_type": "code",
   "execution_count": 106,
   "metadata": {},
   "outputs": [
    {
     "data": {
      "text/plain": [
       "(150, 5)"
      ]
     },
     "execution_count": 106,
     "metadata": {},
     "output_type": "execute_result"
    }
   ],
   "source": [
    "df.shape"
   ]
  },
  {
   "cell_type": "code",
   "execution_count": 107,
   "metadata": {},
   "outputs": [
    {
     "data": {
      "text/html": [
       "<div>\n",
       "<style scoped>\n",
       "    .dataframe tbody tr th:only-of-type {\n",
       "        vertical-align: middle;\n",
       "    }\n",
       "\n",
       "    .dataframe tbody tr th {\n",
       "        vertical-align: top;\n",
       "    }\n",
       "\n",
       "    .dataframe thead th {\n",
       "        text-align: right;\n",
       "    }\n",
       "</style>\n",
       "<table border=\"1\" class=\"dataframe\">\n",
       "  <thead>\n",
       "    <tr style=\"text-align: right;\">\n",
       "      <th></th>\n",
       "      <th>sepal length</th>\n",
       "      <th>sepal width</th>\n",
       "      <th>petal length</th>\n",
       "      <th>petal width</th>\n",
       "      <th>target</th>\n",
       "    </tr>\n",
       "  </thead>\n",
       "  <tbody>\n",
       "    <tr>\n",
       "      <th>0</th>\n",
       "      <td>5.1000000</td>\n",
       "      <td>3.5000000</td>\n",
       "      <td>1.4000000</td>\n",
       "      <td>0.2000000</td>\n",
       "      <td>Iris-setosa</td>\n",
       "    </tr>\n",
       "    <tr>\n",
       "      <th>1</th>\n",
       "      <td>4.9000000</td>\n",
       "      <td>3.0000000</td>\n",
       "      <td>1.4000000</td>\n",
       "      <td>0.2000000</td>\n",
       "      <td>Iris-setosa</td>\n",
       "    </tr>\n",
       "    <tr>\n",
       "      <th>2</th>\n",
       "      <td>4.7000000</td>\n",
       "      <td>3.2000000</td>\n",
       "      <td>1.3000000</td>\n",
       "      <td>0.2000000</td>\n",
       "      <td>Iris-setosa</td>\n",
       "    </tr>\n",
       "    <tr>\n",
       "      <th>3</th>\n",
       "      <td>4.6000000</td>\n",
       "      <td>3.1000000</td>\n",
       "      <td>1.5000000</td>\n",
       "      <td>0.2000000</td>\n",
       "      <td>Iris-setosa</td>\n",
       "    </tr>\n",
       "    <tr>\n",
       "      <th>4</th>\n",
       "      <td>5.0000000</td>\n",
       "      <td>3.6000000</td>\n",
       "      <td>1.4000000</td>\n",
       "      <td>0.2000000</td>\n",
       "      <td>Iris-setosa</td>\n",
       "    </tr>\n",
       "  </tbody>\n",
       "</table>\n",
       "</div>"
      ],
      "text/plain": [
       "   sepal length  sepal width  petal length  petal width       target\n",
       "0     5.1000000    3.5000000     1.4000000    0.2000000  Iris-setosa\n",
       "1     4.9000000    3.0000000     1.4000000    0.2000000  Iris-setosa\n",
       "2     4.7000000    3.2000000     1.3000000    0.2000000  Iris-setosa\n",
       "3     4.6000000    3.1000000     1.5000000    0.2000000  Iris-setosa\n",
       "4     5.0000000    3.6000000     1.4000000    0.2000000  Iris-setosa"
      ]
     },
     "execution_count": 107,
     "metadata": {},
     "output_type": "execute_result"
    }
   ],
   "source": [
    "df.head()"
   ]
  },
  {
   "cell_type": "code",
   "execution_count": 108,
   "metadata": {},
   "outputs": [],
   "source": [
    "from sklearn.preprocessing import StandardScaler\n",
    "features = ['sepal length', 'sepal width', 'petal length', 'petal width']\n",
    "# Separating out the features\n",
    "x = df.loc[:, features].values\n",
    "# Separating out the target\n",
    "y = df.loc[:,['target']].values\n",
    "# Standardizing the features\n",
    "x = StandardScaler().fit_transform(x)"
   ]
  },
  {
   "cell_type": "code",
   "execution_count": 109,
   "metadata": {},
   "outputs": [
    {
     "data": {
      "text/plain": [
       "array([[-0.90068117,  1.03205722, -1.3412724 , -1.31297673],\n",
       "       [-1.14301691, -0.1249576 , -1.3412724 , -1.31297673],\n",
       "       [-1.38535265,  0.33784833, -1.39813811, -1.31297673],\n",
       "       [-1.50652052,  0.10644536, -1.2844067 , -1.31297673],\n",
       "       [-1.02184904,  1.26346019, -1.3412724 , -1.31297673]])"
      ]
     },
     "execution_count": 109,
     "metadata": {},
     "output_type": "execute_result"
    }
   ],
   "source": [
    "x[0:5,:]"
   ]
  },
  {
   "cell_type": "code",
   "execution_count": 110,
   "metadata": {},
   "outputs": [
    {
     "data": {
      "text/plain": [
       "array([['Iris-setosa'],\n",
       "       ['Iris-setosa'],\n",
       "       ['Iris-setosa'],\n",
       "       ['Iris-setosa'],\n",
       "       ['Iris-setosa']], dtype=object)"
      ]
     },
     "execution_count": 110,
     "metadata": {},
     "output_type": "execute_result"
    }
   ],
   "source": [
    "y[0:5]"
   ]
  },
  {
   "cell_type": "code",
   "execution_count": 111,
   "metadata": {},
   "outputs": [],
   "source": [
    "from sklearn.decomposition import PCA\n",
    "pca = PCA(n_components=2)\n",
    "principalComponents = pca.fit_transform(x)\n",
    "principalDf = pd.DataFrame(data = principalComponents\n",
    "             , columns = ['principal component 1', 'principal component 2'])"
   ]
  },
  {
   "cell_type": "code",
   "execution_count": 112,
   "metadata": {},
   "outputs": [
    {
     "data": {
      "text/html": [
       "<div>\n",
       "<style scoped>\n",
       "    .dataframe tbody tr th:only-of-type {\n",
       "        vertical-align: middle;\n",
       "    }\n",
       "\n",
       "    .dataframe tbody tr th {\n",
       "        vertical-align: top;\n",
       "    }\n",
       "\n",
       "    .dataframe thead th {\n",
       "        text-align: right;\n",
       "    }\n",
       "</style>\n",
       "<table border=\"1\" class=\"dataframe\">\n",
       "  <thead>\n",
       "    <tr style=\"text-align: right;\">\n",
       "      <th></th>\n",
       "      <th>principal component 1</th>\n",
       "      <th>principal component 2</th>\n",
       "    </tr>\n",
       "  </thead>\n",
       "  <tbody>\n",
       "    <tr>\n",
       "      <th>0</th>\n",
       "      <td>-2.2645417</td>\n",
       "      <td>0.5057039</td>\n",
       "    </tr>\n",
       "    <tr>\n",
       "      <th>1</th>\n",
       "      <td>-2.0864255</td>\n",
       "      <td>-0.6554047</td>\n",
       "    </tr>\n",
       "    <tr>\n",
       "      <th>2</th>\n",
       "      <td>-2.3679504</td>\n",
       "      <td>-0.3184773</td>\n",
       "    </tr>\n",
       "    <tr>\n",
       "      <th>3</th>\n",
       "      <td>-2.3041972</td>\n",
       "      <td>-0.5753677</td>\n",
       "    </tr>\n",
       "    <tr>\n",
       "      <th>4</th>\n",
       "      <td>-2.3887775</td>\n",
       "      <td>0.6747674</td>\n",
       "    </tr>\n",
       "  </tbody>\n",
       "</table>\n",
       "</div>"
      ],
      "text/plain": [
       "   principal component 1  principal component 2\n",
       "0             -2.2645417              0.5057039\n",
       "1             -2.0864255             -0.6554047\n",
       "2             -2.3679504             -0.3184773\n",
       "3             -2.3041972             -0.5753677\n",
       "4             -2.3887775              0.6747674"
      ]
     },
     "execution_count": 112,
     "metadata": {},
     "output_type": "execute_result"
    }
   ],
   "source": [
    "principalDf.head()"
   ]
  },
  {
   "cell_type": "code",
   "execution_count": 113,
   "metadata": {},
   "outputs": [
    {
     "data": {
      "image/png": "[encoded data removed]",
      "text/plain": [
       "<Figure size 576x576 with 1 Axes>"
      ]
     },
     "metadata": {
      "needs_background": "light"
     },
     "output_type": "display_data"
    }
   ],
   "source": [
    "from matplotlib import pyplot as plt\n",
    "fig = plt.figure(figsize = (8,8))\n",
    "ax = fig.add_subplot(1,1,1) \n",
    "ax.set_xlabel('Principal Component 1', fontsize = 15)\n",
    "ax.set_ylabel('Principal Component 2', fontsize = 15)\n",
    "ax.set_title('2 component PCA', fontsize = 20)\n",
    "targets = ['Iris-setosa', 'Iris-versicolor', 'Iris-virginica']\n",
    "colors = ['r', 'g', 'b']\n",
    "finalDf = pd.concat([principalDf, df[['target']]], axis = 1)\n",
    "for target, color in zip(targets,colors):\n",
    "    indicesToKeep = finalDf['target'] == target\n",
    "    ax.scatter(finalDf.loc[indicesToKeep, 'principal component 1']\n",
    "               , finalDf.loc[indicesToKeep, 'principal component 2']\n",
    "               , c = color\n",
    "               , s = 50)\n",
    "ax.legend(targets)\n",
    "ax.grid()"
   ]
  },
  {
   "cell_type": "code",
   "execution_count": 114,
   "metadata": {},
   "outputs": [
    {
     "data": {
      "text/plain": [
       "array([0.72770452, 0.23030523])"
      ]
     },
     "execution_count": 114,
     "metadata": {},
     "output_type": "execute_result"
    }
   ],
   "source": [
    "pca.explained_variance_ratio_"
   ]
  },
  {
   "cell_type": "markdown",
   "metadata": {},
   "source": [
    "# TRAIN/TEST SPLIT"
   ]
  },
  {
   "cell_type": "code",
   "execution_count": 136,
   "metadata": {},
   "outputs": [],
   "source": [
    "import pandas as pd\n",
    "from sklearn import datasets, linear_model\n",
    "from sklearn.model_selection import train_test_split\n",
    "from matplotlib import pyplot as plt"
   ]
  },
  {
   "cell_type": "code",
   "execution_count": 137,
   "metadata": {},
   "outputs": [],
   "source": [
    "# Load the Diabetes dataset\n",
    "columns = \"age sex bmi map tc ldl hdl tch ltg glu\".split() # Declare the columns names\n",
    "diabetes = datasets.load_diabetes() # Call the diabetes dataset from sklearn\n",
    "df = pd.DataFrame(diabetes.data, columns=columns) # load the dataset as a pandas data frame\n",
    "y = diabetes.target # define the target variable (dependent variable) as y"
   ]
  },
  {
   "cell_type": "code",
   "execution_count": 138,
   "metadata": {},
   "outputs": [
    {
     "data": {
      "text/plain": [
       "array([151.,  75., 141., 206., 135.])"
      ]
     },
     "execution_count": 138,
     "metadata": {},
     "output_type": "execute_result"
    }
   ],
   "source": [
    "y[0:5]"
   ]
  },
  {
   "cell_type": "code",
   "execution_count": 139,
   "metadata": {},
   "outputs": [
    {
     "name": "stdout",
     "output_type": "stream",
     "text": [
      "(353, 10) (353,)\n",
      "(89, 10) (89,)\n"
     ]
    }
   ],
   "source": [
    "# create training and testing vars\n",
    "X_train, X_test, y_train, y_test = train_test_split(df, y, test_size=0.2)\n",
    "print(X_train.shape, y_train.shape)\n",
    "print(X_test.shape, y_test.shape)"
   ]
  },
  {
   "cell_type": "code",
   "execution_count": 140,
   "metadata": {},
   "outputs": [],
   "source": [
    "# fit a model\n",
    "lm = linear_model.LinearRegression()\n",
    "model = lm.fit(X_train, y_train)\n",
    "predictions = lm.predict(X_test)"
   ]
  },
  {
   "cell_type": "code",
   "execution_count": 141,
   "metadata": {},
   "outputs": [
    {
     "data": {
      "text/plain": [
       "array([167.22800944, 100.77032018, 149.34203637, 144.03303092,\n",
       "       190.69647727])"
      ]
     },
     "execution_count": 141,
     "metadata": {},
     "output_type": "execute_result"
    }
   ],
   "source": [
    "predictions[0:5]"
   ]
  },
  {
   "cell_type": "code",
   "execution_count": 143,
   "metadata": {
    "scrolled": true
   },
   "outputs": [
    {
     "data": {
      "text/plain": [
       "Text(0, 0.5, 'Predictions')"
      ]
     },
     "execution_count": 143,
     "metadata": {},
     "output_type": "execute_result"
    },
    {
     "data": {
      "image/png": "[encoded data removed]",
      "text/plain": [
       "<Figure size 432x288 with 1 Axes>"
      ]
     },
     "metadata": {
      "needs_background": "light"
     },
     "output_type": "display_data"
    }
   ],
   "source": [
    "## The line / model\n",
    "plt.scatter(y_test, predictions)\n",
    "plt.xlabel('True Values')\n",
    "plt.ylabel('Predictions')"
   ]
  },
  {
   "cell_type": "code",
   "execution_count": 144,
   "metadata": {},
   "outputs": [
    {
     "name": "stdout",
     "output_type": "stream",
     "text": [
      "Score:  0.36858014177896137\n"
     ]
    }
   ],
   "source": [
    "print('Score: ', model.score(X_test, y_test))"
   ]
  },
  {
   "cell_type": "markdown",
   "metadata": {},
   "source": [
    "# K-FOLD CROSS VALIDATION"
   ]
  },
  {
   "cell_type": "code",
   "execution_count": 145,
   "metadata": {},
   "outputs": [
    {
     "name": "stdout",
     "output_type": "stream",
     "text": [
      "Cross-validated scores: [0.4554861  0.46138572 0.40094084 0.55220736 0.43942775 0.56923406]\n"
     ]
    }
   ],
   "source": [
    "# Necessary imports: \n",
    "#from sklearn.cross_validation import cross_val_score, cross_val_predict\n",
    "from sklearn.model_selection import cross_val_score, cross_val_predict\n",
    "from sklearn import metrics\n",
    "\n",
    "# Perform 6-fold cross validation\n",
    "scores = cross_val_score(model, df, y, cv=6)\n",
    "print('Cross-validated scores:', scores)"
   ]
  },
  {
   "cell_type": "code",
   "execution_count": 146,
   "metadata": {},
   "outputs": [
    {
     "data": {
      "text/plain": [
       "<matplotlib.collections.PathCollection at 0x7f9aca95f610>"
      ]
     },
     "execution_count": 146,
     "metadata": {},
     "output_type": "execute_result"
    },
    {
     "data": {
      "image/png": "[encoded data removed]",
      "text/plain": [
       "<Figure size 432x288 with 1 Axes>"
      ]
     },
     "metadata": {
      "needs_background": "light"
     },
     "output_type": "display_data"
    }
   ],
   "source": [
    "# Make cross validated predictions\n",
    "predictions = cross_val_predict(model, df, y, cv=6)\n",
    "plt.scatter(y, predictions)"
   ]
  },
  {
   "cell_type": "markdown",
   "metadata": {},
   "source": [
    "# Leave-One-Out Cross Validation"
   ]
  },
  {
   "cell_type": "code",
   "execution_count": 147,
   "metadata": {},
   "outputs": [
    {
     "name": "stdout",
     "output_type": "stream",
     "text": [
      "-----------------------\n",
      "Leave One Out?mse  3001.7462317329437\n",
      "-----------------------\n"
     ]
    }
   ],
   "source": [
    "    from sklearn import linear_model\n",
    "    import numpy as np\n",
    "    from sklearn.model_selection import LeaveOneOut\n",
    "    loo = LeaveOneOut()\n",
    "    lmLOOCV = linear_model.LinearRegression()\n",
    "    X = np.array(df)\n",
    "    square_error_sum = 0.0\n",
    "    for train_index, test_index in loo.split(X):\n",
    "        X_train, X_test = X[train_index], X[test_index]\n",
    "        y_train, y_test = y[train_index], y[test_index]\n",
    "        model = lmLOOCV.fit(X_train, y_train)\n",
    "        predicted_y = model.predict(X_test)\n",
    "        square_error_sum += float(y_test[0] - predicted_y) ** 2\n",
    "    mse = square_error_sum / X.shape[0]\n",
    "    print('-----------------------')\n",
    "    print('Leave One Out?mse ' , mse)\n",
    "    print('-----------------------')"
   ]
  },
  {
   "cell_type": "code",
   "execution_count": null,
   "metadata": {},
   "outputs": [],
   "source": []
  }
 ],
 "metadata": {
  "kernelspec": {
   "display_name": "Python 3",
   "language": "python",
   "name": "python3"
  },
  "language_info": {
   "codemirror_mode": {
    "name": "ipython",
    "version": 3
   },
   "file_extension": ".py",
   "mimetype": "text/x-python",
   "name": "python",
   "nbconvert_exporter": "python",
   "pygments_lexer": "ipython3",
   "version": "3.8.5"
  }
 },
 "nbformat": 4,
 "nbformat_minor": 4
}
