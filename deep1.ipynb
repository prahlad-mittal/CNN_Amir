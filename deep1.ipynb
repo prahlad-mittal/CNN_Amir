{
 "cells": [
  {
   "cell_type": "code",
   "execution_count": 1,
   "metadata": {},
   "outputs": [],
   "source": [
    "# first neural network with keras tutorial\n",
    "from numpy import loadtxt\n",
    "from keras.models import Sequential\n",
    "from keras.layers import Dense"
   ]
  },
  {
   "cell_type": "code",
   "execution_count": 2,
   "metadata": {},
   "outputs": [
    {
     "name": "stdout",
     "output_type": "stream",
     "text": [
      "(303, 14)\n",
      "(270, 13)\n",
      "[[5.80e+01 1.00e+00 0.00e+00 1.14e+02 3.18e+02 0.00e+00 2.00e+00 1.40e+02\n",
      "  0.00e+00 4.40e+00 0.00e+00 3.00e+00 1.00e+00]\n",
      " [5.80e+01 0.00e+00 0.00e+00 1.70e+02 2.25e+02 1.00e+00 0.00e+00 1.46e+02\n",
      "  1.00e+00 2.80e+00 1.00e+00 2.00e+00 1.00e+00]\n",
      " [6.70e+01 1.00e+00 2.00e+00 1.52e+02 2.12e+02 0.00e+00 0.00e+00 1.50e+02\n",
      "  0.00e+00 8.00e-01 1.00e+00 0.00e+00 3.00e+00]\n",
      " [4.40e+01 1.00e+00 0.00e+00 1.20e+02 1.69e+02 0.00e+00 1.00e+00 1.44e+02\n",
      "  1.00e+00 2.80e+00 0.00e+00 0.00e+00 1.00e+00]\n",
      " [6.30e+01 1.00e+00 0.00e+00 1.40e+02 1.87e+02 0.00e+00 0.00e+00 1.44e+02\n",
      "  1.00e+00 4.00e+00 2.00e+00 2.00e+00 3.00e+00]\n",
      " [6.30e+01 0.00e+00 0.00e+00 1.24e+02 1.97e+02 0.00e+00 1.00e+00 1.36e+02\n",
      "  1.00e+00 0.00e+00 1.00e+00 0.00e+00 2.00e+00]\n",
      " [5.90e+01 1.00e+00 0.00e+00 1.64e+02 1.76e+02 1.00e+00 0.00e+00 9.00e+01\n",
      "  0.00e+00 1.00e+00 1.00e+00 2.00e+00 1.00e+00]\n",
      " [5.70e+01 0.00e+00 0.00e+00 1.40e+02 2.41e+02 0.00e+00 1.00e+00 1.23e+02\n",
      "  1.00e+00 2.00e-01 1.00e+00 0.00e+00 3.00e+00]\n",
      " [4.50e+01 1.00e+00 3.00e+00 1.10e+02 2.64e+02 0.00e+00 1.00e+00 1.32e+02\n",
      "  0.00e+00 1.20e+00 1.00e+00 0.00e+00 3.00e+00]\n",
      " [6.80e+01 1.00e+00 0.00e+00 1.44e+02 1.93e+02 1.00e+00 1.00e+00 1.41e+02\n",
      "  0.00e+00 3.40e+00 1.00e+00 2.00e+00 3.00e+00]\n",
      " [5.70e+01 1.00e+00 0.00e+00 1.30e+02 1.31e+02 0.00e+00 1.00e+00 1.15e+02\n",
      "  1.00e+00 1.20e+00 1.00e+00 1.00e+00 3.00e+00]\n",
      " [5.70e+01 0.00e+00 1.00e+00 1.30e+02 2.36e+02 0.00e+00 0.00e+00 1.74e+02\n",
      "  0.00e+00 0.00e+00 1.00e+00 1.00e+00 2.00e+00]\n",
      " [4.20e+01 1.00e+00 2.00e+00 1.30e+02 1.80e+02 0.00e+00 1.00e+00 1.50e+02\n",
      "  0.00e+00 0.00e+00 2.00e+00 0.00e+00 2.00e+00]\n",
      " [6.60e+01 1.00e+00 0.00e+00 1.60e+02 2.28e+02 0.00e+00 0.00e+00 1.38e+02\n",
      "  0.00e+00 2.30e+00 2.00e+00 0.00e+00 1.00e+00]\n",
      " [7.10e+01 0.00e+00 0.00e+00 1.12e+02 1.49e+02 0.00e+00 1.00e+00 1.25e+02\n",
      "  0.00e+00 1.60e+00 1.00e+00 0.00e+00 2.00e+00]\n",
      " [6.40e+01 1.00e+00 3.00e+00 1.70e+02 2.27e+02 0.00e+00 0.00e+00 1.55e+02\n",
      "  0.00e+00 6.00e-01 1.00e+00 0.00e+00 3.00e+00]\n",
      " [6.60e+01 0.00e+00 2.00e+00 1.46e+02 2.78e+02 0.00e+00 0.00e+00 1.52e+02\n",
      "  0.00e+00 0.00e+00 1.00e+00 1.00e+00 2.00e+00]\n",
      " [3.90e+01 0.00e+00 2.00e+00 1.38e+02 2.20e+02 0.00e+00 1.00e+00 1.52e+02\n",
      "  0.00e+00 0.00e+00 1.00e+00 0.00e+00 2.00e+00]\n",
      " [5.80e+01 0.00e+00 0.00e+00 1.30e+02 1.97e+02 0.00e+00 1.00e+00 1.31e+02\n",
      "  0.00e+00 6.00e-01 1.00e+00 0.00e+00 2.00e+00]\n",
      " [4.70e+01 1.00e+00 2.00e+00 1.30e+02 2.53e+02 0.00e+00 1.00e+00 1.79e+02\n",
      "  0.00e+00 0.00e+00 2.00e+00 0.00e+00 2.00e+00]\n",
      " [3.50e+01 1.00e+00 1.00e+00 1.22e+02 1.92e+02 0.00e+00 1.00e+00 1.74e+02\n",
      "  0.00e+00 0.00e+00 2.00e+00 0.00e+00 2.00e+00]\n",
      " [5.80e+01 1.00e+00 1.00e+00 1.25e+02 2.20e+02 0.00e+00 1.00e+00 1.44e+02\n",
      "  0.00e+00 4.00e-01 1.00e+00 4.00e+00 3.00e+00]\n",
      " [5.60e+01 1.00e+00 1.00e+00 1.30e+02 2.21e+02 0.00e+00 0.00e+00 1.63e+02\n",
      "  0.00e+00 0.00e+00 2.00e+00 0.00e+00 3.00e+00]\n",
      " [5.60e+01 1.00e+00 1.00e+00 1.20e+02 2.40e+02 0.00e+00 1.00e+00 1.69e+02\n",
      "  0.00e+00 0.00e+00 0.00e+00 0.00e+00 2.00e+00]\n",
      " [5.50e+01 0.00e+00 1.00e+00 1.32e+02 3.42e+02 0.00e+00 1.00e+00 1.66e+02\n",
      "  0.00e+00 1.20e+00 2.00e+00 0.00e+00 2.00e+00]\n",
      " [4.10e+01 1.00e+00 1.00e+00 1.20e+02 1.57e+02 0.00e+00 1.00e+00 1.82e+02\n",
      "  0.00e+00 0.00e+00 2.00e+00 0.00e+00 2.00e+00]\n",
      " [3.80e+01 1.00e+00 2.00e+00 1.38e+02 1.75e+02 0.00e+00 1.00e+00 1.73e+02\n",
      "  0.00e+00 0.00e+00 2.00e+00 4.00e+00 2.00e+00]\n",
      " [3.80e+01 1.00e+00 2.00e+00 1.38e+02 1.75e+02 0.00e+00 1.00e+00 1.73e+02\n",
      "  0.00e+00 0.00e+00 2.00e+00 4.00e+00 2.00e+00]\n",
      " [6.70e+01 1.00e+00 0.00e+00 1.60e+02 2.86e+02 0.00e+00 0.00e+00 1.08e+02\n",
      "  1.00e+00 1.50e+00 1.00e+00 3.00e+00 2.00e+00]\n",
      " [6.70e+01 1.00e+00 0.00e+00 1.20e+02 2.29e+02 0.00e+00 0.00e+00 1.29e+02\n",
      "  1.00e+00 2.60e+00 1.00e+00 2.00e+00 3.00e+00]\n",
      " [6.20e+01 0.00e+00 0.00e+00 1.40e+02 2.68e+02 0.00e+00 0.00e+00 1.60e+02\n",
      "  0.00e+00 3.60e+00 0.00e+00 2.00e+00 2.00e+00]\n",
      " [6.30e+01 1.00e+00 0.00e+00 1.30e+02 2.54e+02 0.00e+00 0.00e+00 1.47e+02\n",
      "  0.00e+00 1.40e+00 1.00e+00 1.00e+00 3.00e+00]]\n",
      "[0. 0. 0. 0. 0. 0. 0. 0. 0. 0. 0. 0. 1. 1. 1. 1. 1. 1. 1. 1. 1. 1. 1. 1.\n",
      " 1. 1. 1. 1. 0. 0. 0. 0.]\n"
     ]
    }
   ],
   "source": [
    "# load the dataset\n",
    "dataset = loadtxt(\"D:\\\\imoortant\\\\Appl_ML\\\\datasets_heart_noheader.csv\", delimiter=',')\n",
    "# split into input (X) and output (y) variables\n",
    "print(dataset.shape)\n",
    "X = dataset[0:270,0:13]\n",
    "print(X.shape)\n",
    "y = dataset[0:270,13]\n",
    "X2 = dataset[270:302,0:13]\n",
    "y2 = dataset[270:302,13] \n",
    "print(X2)\n",
    "print(y2)"
   ]
  },
  {
   "cell_type": "code",
   "execution_count": 3,
   "metadata": {},
   "outputs": [],
   "source": [
    "# define the keras model\n",
    "model = Sequential()\n",
    "model.add(Dense(12, input_dim=13, activation='relu'))\n",
    "model.add(Dense(4, activation='relu'))\n",
    "model.add(Dense(1, activation='sigmoid'))"
   ]
  },
  {
   "cell_type": "code",
   "execution_count": 4,
   "metadata": {},
   "outputs": [],
   "source": [
    "# compile the keras model\n",
    "model.compile(loss='binary_crossentropy', optimizer='adam', metrics=['accuracy'])"
   ]
  },
  {
   "cell_type": "code",
   "execution_count": 5,
   "metadata": {},
   "outputs": [
    {
     "name": "stdout",
     "output_type": "stream",
     "text": [
      "Epoch 1/20\n",
      "27/27 [==============================] - 0s 961us/step - loss: 13.5542 - accuracy: 0.4444\n",
      "Epoch 2/20\n",
      "27/27 [==============================] - 0s 997us/step - loss: 1.6535 - accuracy: 0.4667\n",
      "Epoch 3/20\n",
      "27/27 [==============================] - 0s 960us/step - loss: 0.8564 - accuracy: 0.5259\n",
      "Epoch 4/20\n",
      "27/27 [==============================] - 0s 997us/step - loss: 0.7861 - accuracy: 0.5370\n",
      "Epoch 5/20\n",
      "27/27 [==============================] - 0s 960us/step - loss: 0.7534 - accuracy: 0.5370\n",
      "Epoch 6/20\n",
      "27/27 [==============================] - 0s 923us/step - loss: 0.7370 - accuracy: 0.5407\n",
      "Epoch 7/20\n",
      "27/27 [==============================] - 0s 960us/step - loss: 0.7258 - accuracy: 0.5444\n",
      "Epoch 8/20\n",
      "27/27 [==============================] - 0s 887us/step - loss: 0.7234 - accuracy: 0.5481\n",
      "Epoch 9/20\n",
      "27/27 [==============================] - 0s 923us/step - loss: 0.7190 - accuracy: 0.5481\n",
      "Epoch 10/20\n",
      "27/27 [==============================] - 0s 924us/step - loss: 0.7164 - accuracy: 0.5481\n",
      "Epoch 11/20\n",
      "27/27 [==============================] - 0s 960us/step - loss: 0.7139 - accuracy: 0.5481\n",
      "Epoch 12/20\n",
      "27/27 [==============================] - 0s 924us/step - loss: 0.7109 - accuracy: 0.5481\n",
      "Epoch 13/20\n",
      "27/27 [==============================] - 0s 960us/step - loss: 0.7080 - accuracy: 0.5481\n",
      "Epoch 14/20\n",
      "27/27 [==============================] - 0s 997us/step - loss: 0.7048 - accuracy: 0.5481\n",
      "Epoch 15/20\n",
      "27/27 [==============================] - 0s 1ms/step - loss: 0.7019 - accuracy: 0.5481\n",
      "Epoch 16/20\n",
      "27/27 [==============================] - 0s 1ms/step - loss: 0.6986 - accuracy: 0.5481\n",
      "Epoch 17/20\n",
      "27/27 [==============================] - 0s 960us/step - loss: 0.6953 - accuracy: 0.5481\n",
      "Epoch 18/20\n",
      "27/27 [==============================] - 0s 960us/step - loss: 0.6942 - accuracy: 0.5481\n",
      "Epoch 19/20\n",
      "27/27 [==============================] - 0s 997us/step - loss: 0.6903 - accuracy: 0.5481\n",
      "Epoch 20/20\n",
      "27/27 [==============================] - 0s 997us/step - loss: 0.6890 - accuracy: 0.5519\n"
     ]
    },
    {
     "data": {
      "text/plain": [
       "<tensorflow.python.keras.callbacks.History at 0x2d27b9c1b08>"
      ]
     },
     "execution_count": 5,
     "metadata": {},
     "output_type": "execute_result"
    }
   ],
   "source": [
    "# fit the keras model on the dataset\n",
    "model.fit(X, y, epochs=20, batch_size=10)"
   ]
  },
  {
   "cell_type": "code",
   "execution_count": 6,
   "metadata": {},
   "outputs": [
    {
     "name": "stdout",
     "output_type": "stream",
     "text": [
      "9/9 [==============================] - 0s 886us/step - loss: 0.6889 - accuracy: 0.5519\n",
      "Accuracy: 55.19\n"
     ]
    }
   ],
   "source": [
    "# evaluate the keras model\n",
    "_, accuracy = model.evaluate(X, y)\n",
    "print('Accuracy: %.2f' % (accuracy*100))"
   ]
  },
  {
   "cell_type": "code",
   "execution_count": 7,
   "metadata": {},
   "outputs": [],
   "source": [
    "# make probability predictions with the model\n",
    "predictions = model.predict(X)\n",
    "# round predictions \n",
    "rounded = [round(x[0]) for x in predictions]"
   ]
  },
  {
   "cell_type": "code",
   "execution_count": 8,
   "metadata": {},
   "outputs": [
    {
     "name": "stdout",
     "output_type": "stream",
     "text": [
      "WARNING:tensorflow:From <ipython-input-8-c54125e1d4f4>:2: Sequential.predict_classes (from tensorflow.python.keras.engine.sequential) is deprecated and will be removed after 2021-01-01.\n",
      "Instructions for updating:\n",
      "Please use instead:* `np.argmax(model.predict(x), axis=-1)`,   if your model does multi-class classification   (e.g. if it uses a `softmax` last-layer activation).* `(model.predict(x) > 0.5).astype(\"int32\")`,   if your model does binary classification   (e.g. if it uses a `sigmoid` last-layer activation).\n",
      "[63.0, 1.0, 3.0, 145.0, 233.0, 1.0, 0.0, 150.0, 0.0, 2.3, 0.0, 0.0, 1.0] => 1 (expected 1)\n",
      "[37.0, 1.0, 2.0, 130.0, 250.0, 0.0, 1.0, 187.0, 0.0, 3.5, 0.0, 0.0, 2.0] => 1 (expected 1)\n",
      "[41.0, 0.0, 1.0, 130.0, 204.0, 0.0, 0.0, 172.0, 0.0, 1.4, 2.0, 0.0, 2.0] => 1 (expected 1)\n",
      "[56.0, 1.0, 1.0, 120.0, 236.0, 0.0, 1.0, 178.0, 0.0, 0.8, 2.0, 0.0, 2.0] => 1 (expected 1)\n",
      "[57.0, 0.0, 0.0, 120.0, 354.0, 0.0, 1.0, 163.0, 1.0, 0.6, 2.0, 0.0, 2.0] => 1 (expected 1)\n",
      "[57.0, 1.0, 0.0, 140.0, 192.0, 0.0, 1.0, 148.0, 0.0, 0.4, 1.0, 0.0, 1.0] => 1 (expected 1)\n",
      "[56.0, 0.0, 1.0, 140.0, 294.0, 0.0, 0.0, 153.0, 0.0, 1.3, 1.0, 0.0, 2.0] => 1 (expected 1)\n",
      "[44.0, 1.0, 1.0, 120.0, 263.0, 0.0, 1.0, 173.0, 0.0, 0.0, 2.0, 0.0, 3.0] => 1 (expected 1)\n",
      "[52.0, 1.0, 2.0, 172.0, 199.0, 1.0, 1.0, 162.0, 0.0, 0.5, 2.0, 0.0, 3.0] => 1 (expected 1)\n",
      "[57.0, 1.0, 2.0, 150.0, 168.0, 0.0, 1.0, 174.0, 0.0, 1.6, 2.0, 0.0, 2.0] => 1 (expected 1)\n",
      "[54.0, 1.0, 0.0, 140.0, 239.0, 0.0, 1.0, 160.0, 0.0, 1.2, 2.0, 0.0, 2.0] => 1 (expected 1)\n",
      "[48.0, 0.0, 2.0, 130.0, 275.0, 0.0, 1.0, 139.0, 0.0, 0.2, 2.0, 0.0, 2.0] => 1 (expected 1)\n",
      "[49.0, 1.0, 1.0, 130.0, 266.0, 0.0, 1.0, 171.0, 0.0, 0.6, 2.0, 0.0, 2.0] => 1 (expected 1)\n",
      "[64.0, 1.0, 3.0, 110.0, 211.0, 0.0, 0.0, 144.0, 1.0, 1.8, 1.0, 0.0, 2.0] => 1 (expected 1)\n",
      "[58.0, 0.0, 3.0, 150.0, 283.0, 1.0, 0.0, 162.0, 0.0, 1.0, 2.0, 0.0, 2.0] => 1 (expected 1)\n"
     ]
    }
   ],
   "source": [
    "# make class predictions with the model\n",
    "predictions = model.predict_classes(X)\n",
    "# summarize the first 5 cases\n",
    "for i in range(15):\n",
    "\tprint('%s => %d (expected %d)' % (X[i].tolist(), predictions[i], y[i]))"
   ]
  },
  {
   "cell_type": "code",
   "execution_count": 9,
   "metadata": {},
   "outputs": [
    {
     "name": "stdout",
     "output_type": "stream",
     "text": [
      "1/1 [==============================] - 0s 999us/step - loss: 0.6947 - accuracy: 0.5000\n",
      "Accuracy: 50.00\n"
     ]
    }
   ],
   "source": [
    "# evaluate the keras model, testing\n",
    "_, accuracy = model.evaluate(X2, y2)\n",
    "print('Accuracy: %.2f' % (accuracy*100))"
   ]
  },
  {
   "cell_type": "code",
   "execution_count": 10,
   "metadata": {},
   "outputs": [],
   "source": [
    "# make probability predictions with the model, testing\n",
    "predictions = model.predict(X2)\n",
    "# round predictions \n",
    "rounded = [round(x[0]) for x in predictions]"
   ]
  },
  {
   "cell_type": "code",
   "execution_count": 11,
   "metadata": {},
   "outputs": [
    {
     "name": "stdout",
     "output_type": "stream",
     "text": [
      "[58.0, 1.0, 0.0, 114.0, 318.0, 0.0, 2.0, 140.0, 0.0, 4.4, 0.0, 3.0, 1.0] => 1 (expected 0)\n",
      "[58.0, 0.0, 0.0, 170.0, 225.0, 1.0, 0.0, 146.0, 1.0, 2.8, 1.0, 2.0, 1.0] => 1 (expected 0)\n",
      "[67.0, 1.0, 2.0, 152.0, 212.0, 0.0, 0.0, 150.0, 0.0, 0.8, 1.0, 0.0, 3.0] => 1 (expected 0)\n",
      "[44.0, 1.0, 0.0, 120.0, 169.0, 0.0, 1.0, 144.0, 1.0, 2.8, 0.0, 0.0, 1.0] => 1 (expected 0)\n",
      "[63.0, 1.0, 0.0, 140.0, 187.0, 0.0, 0.0, 144.0, 1.0, 4.0, 2.0, 2.0, 3.0] => 1 (expected 0)\n",
      "[63.0, 0.0, 0.0, 124.0, 197.0, 0.0, 1.0, 136.0, 1.0, 0.0, 1.0, 0.0, 2.0] => 1 (expected 0)\n",
      "[59.0, 1.0, 0.0, 164.0, 176.0, 1.0, 0.0, 90.0, 0.0, 1.0, 1.0, 2.0, 1.0] => 1 (expected 0)\n",
      "[57.0, 0.0, 0.0, 140.0, 241.0, 0.0, 1.0, 123.0, 1.0, 0.2, 1.0, 0.0, 3.0] => 1 (expected 0)\n",
      "[45.0, 1.0, 3.0, 110.0, 264.0, 0.0, 1.0, 132.0, 0.0, 1.2, 1.0, 0.0, 3.0] => 1 (expected 0)\n",
      "[68.0, 1.0, 0.0, 144.0, 193.0, 1.0, 1.0, 141.0, 0.0, 3.4, 1.0, 2.0, 3.0] => 1 (expected 0)\n",
      "[57.0, 1.0, 0.0, 130.0, 131.0, 0.0, 1.0, 115.0, 1.0, 1.2, 1.0, 1.0, 3.0] => 1 (expected 0)\n",
      "[57.0, 0.0, 1.0, 130.0, 236.0, 0.0, 0.0, 174.0, 0.0, 0.0, 1.0, 1.0, 2.0] => 1 (expected 0)\n",
      "[42.0, 1.0, 2.0, 130.0, 180.0, 0.0, 1.0, 150.0, 0.0, 0.0, 2.0, 0.0, 2.0] => 1 (expected 1)\n",
      "[66.0, 1.0, 0.0, 160.0, 228.0, 0.0, 0.0, 138.0, 0.0, 2.3, 2.0, 0.0, 1.0] => 1 (expected 1)\n",
      "[71.0, 0.0, 0.0, 112.0, 149.0, 0.0, 1.0, 125.0, 0.0, 1.6, 1.0, 0.0, 2.0] => 1 (expected 1)\n",
      "[64.0, 1.0, 3.0, 170.0, 227.0, 0.0, 0.0, 155.0, 0.0, 0.6, 1.0, 0.0, 3.0] => 1 (expected 1)\n",
      "[66.0, 0.0, 2.0, 146.0, 278.0, 0.0, 0.0, 152.0, 0.0, 0.0, 1.0, 1.0, 2.0] => 1 (expected 1)\n",
      "[39.0, 0.0, 2.0, 138.0, 220.0, 0.0, 1.0, 152.0, 0.0, 0.0, 1.0, 0.0, 2.0] => 1 (expected 1)\n",
      "[58.0, 0.0, 0.0, 130.0, 197.0, 0.0, 1.0, 131.0, 0.0, 0.6, 1.0, 0.0, 2.0] => 1 (expected 1)\n",
      "[47.0, 1.0, 2.0, 130.0, 253.0, 0.0, 1.0, 179.0, 0.0, 0.0, 2.0, 0.0, 2.0] => 1 (expected 1)\n",
      "[35.0, 1.0, 1.0, 122.0, 192.0, 0.0, 1.0, 174.0, 0.0, 0.0, 2.0, 0.0, 2.0] => 1 (expected 1)\n",
      "[58.0, 1.0, 1.0, 125.0, 220.0, 0.0, 1.0, 144.0, 0.0, 0.4, 1.0, 4.0, 3.0] => 1 (expected 1)\n",
      "[56.0, 1.0, 1.0, 130.0, 221.0, 0.0, 0.0, 163.0, 0.0, 0.0, 2.0, 0.0, 3.0] => 1 (expected 1)\n",
      "[56.0, 1.0, 1.0, 120.0, 240.0, 0.0, 1.0, 169.0, 0.0, 0.0, 0.0, 0.0, 2.0] => 1 (expected 1)\n",
      "[55.0, 0.0, 1.0, 132.0, 342.0, 0.0, 1.0, 166.0, 0.0, 1.2, 2.0, 0.0, 2.0] => 1 (expected 1)\n"
     ]
    }
   ],
   "source": [
    "# make class predictions with the model, testing\n",
    "predictions = model.predict_classes(X2)\n",
    "# summarize the first 5 cases\n",
    "for i in range(25):\n",
    "\tprint('%s => %d (expected %d)' % (X2[i].tolist(), predictions[i], y2[i]))"
   ]
  }
 ],
 "metadata": {
  "kernelspec": {
   "display_name": "Python 3",
   "language": "python",
   "name": "python3"
  },
  "language_info": {
   "codemirror_mode": {
    "name": "ipython",
    "version": 3
   },
   "file_extension": ".py",
   "mimetype": "text/x-python",
   "name": "python",
   "nbconvert_exporter": "python",
   "pygments_lexer": "ipython3",
   "version": "3.7.4"
  }
 },
 "nbformat": 4,
 "nbformat_minor": 2
}
