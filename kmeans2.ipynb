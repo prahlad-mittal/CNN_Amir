{
 "cells": [
  {
   "cell_type": "code",
   "execution_count": 1,
   "metadata": {},
   "outputs": [],
   "source": [
    "# you should install numpy  seaborn  sklearn"
   ]
  },
  {
   "cell_type": "code",
   "execution_count": 2,
   "metadata": {},
   "outputs": [],
   "source": [
    "# Dependencies\n",
    "%matplotlib inline\n",
    "import pandas as pd\n",
    "import numpy as np\n",
    "import random\n",
    "from sklearn.cluster import KMeans\n",
    "from sklearn.preprocessing import LabelEncoder\n",
    "from sklearn.preprocessing import MinMaxScaler\n",
    "import seaborn as sns\n",
    "import matplotlib.pyplot as plt"
   ]
  },
  {
   "cell_type": "code",
   "execution_count": 3,
   "metadata": {},
   "outputs": [
    {
     "name": "stdout",
     "output_type": "stream",
     "text": [
      "[[ 31  17  34  37  40  37]\n",
      " [ 33  12  24  27  30  36]\n",
      " [ 40  37  22  10  29  27]\n",
      " [ 33  15  22  36  38  34]\n",
      " [ 25  16  19  26  35  29]\n",
      " [ 36  21  26  40  23  18]\n",
      " [ 28  33  35  22  40  22]\n",
      " [ 27  10  14  30  39  22]\n",
      " [ 35  11  33  32  18  13]\n",
      " [ 37  29  13  33  40  36]\n",
      " [ 38  35  34  13  25  37]\n",
      " [ 12  39  24  36  21  23]\n",
      " [ 40  31  39  28  23  15]\n",
      " [ 18  32  11  14  31  40]\n",
      " [ 25  10  21  19  12  28]\n",
      " [ 13  22  31  22  20  10]\n",
      " [ 14  20  11  17  37  30]\n",
      " [ 36  25  23  37  28  19]\n",
      " [ 39  28  27  13  26  29]\n",
      " [ 12  25  35  30  27  29]\n",
      " [ 15  32  34  39  16  16]\n",
      " [ 36  32  32  10  15  20]\n",
      " [ 32  39  28  29  31  34]\n",
      " [ 12  25  30  21  17  27]\n",
      " [ 35  12  24  33  19  36]\n",
      " [ 86  73 100  63  91  73]\n",
      " [ 69  95  56  71  88  63]\n",
      " [ 68  51  55  70  45  86]\n",
      " [100  51  45  37  86  88]\n",
      " [ 62  41  74  94  96  41]\n",
      " [ 43  39  76  54  89  42]\n",
      " [ 48  87  76  76  66  64]\n",
      " [ 54  66  45  89  57  96]\n",
      " [ 95  98  91  51  55  48]\n",
      " [100  89  68  90  56  64]\n",
      " [ 78  92  63  96  98  93]\n",
      " [ 95  57  94  54  72  47]\n",
      " [ 37  80  37  43  49  60]\n",
      " [ 70  77  43  66  84  52]\n",
      " [ 93  37  55 100  83  97]\n",
      " [ 61  72  85  40  64  76]\n",
      " [ 35  92  99  86  94  55]\n",
      " [ 74  44  43  72  35  59]\n",
      " [ 61  55  89  98  54  63]\n",
      " [ 43  67  40  81  72  72]\n",
      " [ 62  75  39  84  80  76]\n",
      " [ 75  52  41  85  75  58]\n",
      " [ 56  37  69  78  69  35]\n",
      " [ 57  42  35  47  67  89]\n",
      " [ 80  75  50  99  82  89]]\n"
     ]
    }
   ],
   "source": [
    "rndlist = []\n",
    "for i in range(0,150):\n",
    "    n = random.randint(10,40)\n",
    "    rndlist.append(n)\n",
    "for i in range(0,150):\n",
    "    n = random.randint(35,100)\n",
    "    rndlist.append(n)\n",
    "X = np.reshape(rndlist,(50,6)) # my_matrix = np.reshape(my_list,3,32))\n",
    "print(X)"
   ]
  },
  {
   "cell_type": "code",
   "execution_count": 4,
   "metadata": {},
   "outputs": [
    {
     "data": {
      "text/plain": [
       "(50, 6)"
      ]
     },
     "execution_count": 4,
     "metadata": {},
     "output_type": "execute_result"
    }
   ],
   "source": [
    "X.shape"
   ]
  },
  {
   "cell_type": "code",
   "execution_count": 5,
   "metadata": {},
   "outputs": [
    {
     "data": {
      "text/plain": [
       "KMeans(max_iter=100, n_clusters=2)"
      ]
     },
     "execution_count": 5,
     "metadata": {},
     "output_type": "execute_result"
    }
   ],
   "source": [
    "kmeans = KMeans(n_clusters=2, max_iter=100, algorithm = 'auto')\n",
    "kmeans.fit(X)"
   ]
  },
  {
   "cell_type": "code",
   "execution_count": 6,
   "metadata": {},
   "outputs": [
    {
     "data": {
      "text/plain": [
       "sklearn.cluster._kmeans.KMeans"
      ]
     },
     "execution_count": 6,
     "metadata": {},
     "output_type": "execute_result"
    }
   ],
   "source": [
    "type(kmeans)"
   ]
  },
  {
   "cell_type": "code",
   "execution_count": 7,
   "metadata": {},
   "outputs": [
    {
     "data": {
      "text/plain": [
       "array([0, 0, 0, 0, 0, 0, 0, 0, 0, 0, 0, 0, 0, 0, 0, 0, 0, 0, 0, 0, 0, 0,\n",
       "       0, 0, 0, 1, 1, 1, 1, 1, 1, 1, 1, 1, 1, 1, 1, 1, 1, 1, 1, 1, 1, 1,\n",
       "       1, 1, 1, 1, 1, 1])"
      ]
     },
     "execution_count": 7,
     "metadata": {},
     "output_type": "execute_result"
    }
   ],
   "source": [
    "y_kmeans = kmeans.predict(X)\n",
    "y_kmeans"
   ]
  },
  {
   "cell_type": "code",
   "execution_count": 8,
   "metadata": {},
   "outputs": [
    {
     "data": {
      "image/png": "[encoded data removed]",
      "text/plain": [
       "<Figure size 432x288 with 1 Axes>"
      ]
     },
     "metadata": {
      "needs_background": "light"
     },
     "output_type": "display_data"
    }
   ],
   "source": [
    "plt.scatter(X[:, 0], X[:, 1], c=y_kmeans, s=30, cmap='viridis')\n",
    "\n",
    "centers = kmeans.cluster_centers_\n",
    "plt.scatter(centers[:, 0], centers[:, 1], c='red', s=200, alpha=0.5);"
   ]
  },
  {
   "cell_type": "code",
   "execution_count": 9,
   "metadata": {},
   "outputs": [
    {
     "data": {
      "image/png": "[encoded data removed]",
      "text/plain": [
       "<Figure size 432x288 with 1 Axes>"
      ]
     },
     "metadata": {
      "needs_background": "light"
     },
     "output_type": "display_data"
    }
   ],
   "source": [
    "plt.scatter(X[:, 1], X[:, 2], c=y_kmeans, s=50, cmap='viridis')\n",
    "\n",
    "centers = kmeans.cluster_centers_\n",
    "plt.scatter(centers[:, 1], centers[:, 2], c='black', s=200, alpha=0.5);"
   ]
  },
  {
   "cell_type": "code",
   "execution_count": 10,
   "metadata": {},
   "outputs": [
    {
     "name": "stdout",
     "output_type": "stream",
     "text": [
      "\n",
      "\n",
      " (2, 6)\n"
     ]
    },
    {
     "data": {
      "image/png": "[encoded data removed]",
      "text/plain": [
       "<Figure size 432x288 with 1 Axes>"
      ]
     },
     "metadata": {
      "needs_background": "light"
     },
     "output_type": "display_data"
    }
   ],
   "source": [
    "plt.scatter(X[:, 2], X[:, 0], c=y_kmeans, s=50, cmap='viridis')\n",
    "\n",
    "centers = kmeans.cluster_centers_\n",
    "print('\\n\\n' , centers.shape)\n",
    "plt.scatter(centers[:, 2], centers[:, 0], c='black', s=200, alpha=0.5);"
   ]
  },
  {
   "cell_type": "code",
   "execution_count": 11,
   "metadata": {},
   "outputs": [
    {
     "data": {
      "text/plain": [
       "array([[28.08, 24.32, 25.84, 26.16, 27.2 , 26.68],\n",
       "       [68.08, 65.76, 62.72, 72.96, 72.28, 67.44]])"
      ]
     },
     "execution_count": 11,
     "metadata": {},
     "output_type": "execute_result"
    }
   ],
   "source": [
    "kmeans.cluster_centers_"
   ]
  }
 ],
 "metadata": {
  "kernelspec": {
   "display_name": "Python 3",
   "language": "python",
   "name": "python3"
  },
  "language_info": {
   "codemirror_mode": {
    "name": "ipython",
    "version": 3
   },
   "file_extension": ".py",
   "mimetype": "text/x-python",
   "name": "python",
   "nbconvert_exporter": "python",
   "pygments_lexer": "ipython3",
   "version": "3.8.8"
  }
 },
 "nbformat": 4,
 "nbformat_minor": 2
}
