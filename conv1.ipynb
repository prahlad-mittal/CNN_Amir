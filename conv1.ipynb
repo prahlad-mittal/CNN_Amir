{
 "cells": [
  {
   "cell_type": "code",
   "execution_count": 1,
   "metadata": {},
   "outputs": [],
   "source": [
    "from keras.models import Sequential\n",
    "from keras.layers import Dense, Conv1D, Flatten, MaxPooling1D\n",
    "from sklearn.model_selection import train_test_split\n",
    "from sklearn.metrics import confusion_matrix\n",
    "from sklearn.datasets import load_iris\n",
    "from numpy import unique\n"
   ]
  },
  {
   "cell_type": "code",
   "execution_count": 2,
   "metadata": {},
   "outputs": [
    {
     "name": "stdout",
     "output_type": "stream",
     "text": [
      "(150, 4)\n",
      "(150, 4, 1)\n",
      "[0 1 2]\n",
      "3\n"
     ]
    }
   ],
   "source": [
    "\n",
    "iris = load_iris()\n",
    "x, y = iris.data, iris.target\n",
    "print(x.shape)\n",
    "\n",
    "x = x.reshape(x.shape[0], x.shape[1], 1)\n",
    "print(x.shape)\n",
    "\n",
    "print(unique(y))\n",
    "print(unique(y).sum())\n",
    "\n",
    "xtrain, xtest, ytrain, ytest=train_test_split(x, y, test_size=0.15)\n"
   ]
  },
  {
   "cell_type": "code",
   "execution_count": 3,
   "metadata": {},
   "outputs": [
    {
     "name": "stdout",
     "output_type": "stream",
     "text": [
      "Model: \"sequential\"\n",
      "_________________________________________________________________\n",
      " Layer (type)                Output Shape              Param #   \n",
      "=================================================================\n",
      " conv1d (Conv1D)             (None, 3, 16)             48        \n",
      "                                                                 \n",
      " conv1d_1 (Conv1D)           (None, 2, 12)             396       \n",
      "                                                                 \n",
      " max_pooling1d (MaxPooling1D  (None, 1, 12)            0         \n",
      " )                                                               \n",
      "                                                                 \n",
      " flatten (Flatten)           (None, 12)                0         \n",
      "                                                                 \n",
      " dense (Dense)               (None, 3)                 39        \n",
      "                                                                 \n",
      "=================================================================\n",
      "Total params: 483\n",
      "Trainable params: 483\n",
      "Non-trainable params: 0\n",
      "_________________________________________________________________\n",
      "4/4 [==============================] - 0s 1ms/step - loss: 0.1947 - accuracy: 0.9764\n",
      "Training Loss: 0.19471460580825806 & Accuracy: 0.9763779640197754\n",
      "\n",
      "\n",
      " [[8 0 0]\n",
      " [0 6 0]\n",
      " [0 0 9]] \n",
      "\n",
      "1/1 [==============================] - 0s 13ms/step - loss: 0.1669 - accuracy: 1.0000\n",
      "Test Loss: 0.16690245270729065 & Accuracy: 1.0\n"
     ]
    }
   ],
   "source": [
    "\n",
    "model = Sequential()\n",
    "model.add(Conv1D(16, 2, activation=\"relu\", input_shape=(4,1)))\n",
    "model.add(Conv1D(12, 2, activation=\"relu\"))\n",
    "#model.add(Dense(16, activation=\"relu\"))\n",
    "model.add(MaxPooling1D())\n",
    "model.add(Flatten())\n",
    "model.add(Dense(3, activation = 'softmax'))\n",
    "model.compile(loss = 'sparse_categorical_crossentropy', \n",
    "     optimizer = \"adam\",               \n",
    "              metrics = ['accuracy'])\n",
    "model.summary()\n",
    "model.fit(xtrain, ytrain, batch_size=16,epochs=100, verbose=0)\n",
    "\n",
    "acc = model.evaluate(xtrain, ytrain)\n",
    "print(\"Training Loss:\", acc[0], \"& Accuracy:\", acc[1])\n",
    "\n",
    "pred = model.predict(xtest)\n",
    "pred_y = pred.argmax(axis=-1)\n",
    "\n",
    "cm = confusion_matrix(ytest, pred_y)\n",
    "print('\\n\\n',cm,'\\n')\n",
    "acc = model.evaluate(xtest, ytest)\n",
    "print(\"Test Loss:\", acc[0], \"& Accuracy:\", acc[1])\n",
    "\n",
    " "
   ]
  }
 ],
 "metadata": {
  "kernelspec": {
   "display_name": "Python 3",
   "language": "python",
   "name": "python3"
  },
  "language_info": {
   "codemirror_mode": {
    "name": "ipython",
    "version": 3
   },
   "file_extension": ".py",
   "mimetype": "text/x-python",
   "name": "python",
   "nbconvert_exporter": "python",
   "pygments_lexer": "ipython3",
   "version": "3.8.8"
  }
 },
 "nbformat": 4,
 "nbformat_minor": 2
}
