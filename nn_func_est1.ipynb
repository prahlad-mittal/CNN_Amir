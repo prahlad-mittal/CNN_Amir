{
 "cells": [
  {
   "cell_type": "code",
   "execution_count": null,
   "metadata": {},
   "outputs": [],
   "source": [
    "# Import the dataset\n",
    "dataset = pd.read_csv(\"simple_network/Linear Data.csv\", header=None).values\n",
    "X_train, X_test, Y_train, Y_test = train_test_split(dataset[:,0:1], dataset[:,1], \n",
    "                                                    test_size=0.25,)\n",
    "# Now we build the model\n",
    "neural_network = Sequential() # create model\n",
    "neural_network.add(Dense(5, input_dim=1, activation='sigmoid')) # hidden layer\n",
    "neural_network.add(Dense(1, activation='sigmoid')) # output layer\n",
    "neural_network.compile(loss='mean_squared_error', optimizer='sgd', metrics=['accuracy'])\n",
    "neural_network_fitted = neural_network.fit(X_train, Y_train, epochs=1000, verbose=0, \n",
    "                                           batch_size=X_train.shape[0], initial_epoch=0)"
   ]
  }
 ],
 "metadata": {
  "kernelspec": {
   "display_name": "Python 3",
   "language": "python",
   "name": "python3"
  },
  "language_info": {
   "codemirror_mode": {
    "name": "ipython",
    "version": 3
   },
   "file_extension": ".py",
   "mimetype": "text/x-python",
   "name": "python",
   "nbconvert_exporter": "python",
   "pygments_lexer": "ipython3",
   "version": "3.7.4"
  }
 },
 "nbformat": 4,
 "nbformat_minor": 2
}
