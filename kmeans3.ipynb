{
 "cells": [
  {
   "cell_type": "code",
   "execution_count": 1,
   "metadata": {},
   "outputs": [],
   "source": [
    "# Dependencies\n",
    "%matplotlib inline\n",
    "import pandas as pd\n",
    "import numpy as np\n",
    "import random\n",
    "from sklearn.cluster import KMeans\n",
    "from sklearn.preprocessing import LabelEncoder\n",
    "from sklearn.preprocessing import MinMaxScaler\n",
    "import seaborn as sns\n",
    "import matplotlib.pyplot as plt"
   ]
  },
  {
   "cell_type": "code",
   "execution_count": 2,
   "metadata": {},
   "outputs": [
    {
     "name": "stdout",
     "output_type": "stream",
     "text": [
      "<class 'numpy.ndarray'>\n",
      "[[167.64   54.36    1.   ]\n",
      " [172.7    55.266   1.   ]\n",
      " [172.7    54.36    1.   ]\n",
      " [170.2    56.625   1.   ]\n",
      " [157.5    51.189   1.   ]\n",
      " [174.     57.984   1.   ]\n",
      " [167.6    58.437   1.   ]\n",
      " [172.7    56.625   1.   ]\n",
      " [160.     51.189   1.   ]\n",
      " [160.     51.642   1.   ]\n",
      " [156.2    47.565   1.   ]\n",
      " [162.6    55.266   1.   ]\n",
      " [183.     58.89    1.   ]\n",
      " [157.5    47.565   1.   ]\n",
      " [158.8    48.924   1.   ]\n",
      " [160.     47.565   1.   ]\n",
      " [157.5    48.471   1.   ]\n",
      " [180.3    54.36    1.   ]\n",
      " [167.6    52.548   1.   ]\n",
      " [166.4    52.548   1.   ]\n",
      " [154.9    57.531   1.   ]\n",
      " [167.6    54.36    1.   ]\n",
      " [171.5    49.83    1.   ]\n",
      " [160.     55.266   1.   ]\n",
      " [163.8    51.642   1.   ]\n",
      " [172.7    52.548   1.   ]\n",
      " [158.8    54.36    1.   ]\n",
      " [166.4    57.531   1.   ]\n",
      " [162.6    48.471   1.   ]\n",
      " [164.     48.018   1.   ]\n",
      " [177.8    51.189   1.   ]\n",
      " [162.6    50.283   1.   ]\n",
      " [179.1    55.266   1.   ]\n",
      " [172.7    49.377   1.   ]\n",
      " [157.5    44.847   1.   ]\n",
      " [180.3    77.01    1.   ]\n",
      " [157.5    52.548   1.   ]\n",
      " [172.7    59.343   1.   ]\n",
      " [160.     46.206   1.   ]\n",
      " [157.5    53.001   1.   ]\n",
      " [160.     45.3     1.   ]\n",
      " [162.     50.736   1.   ]\n",
      " [157.5    57.984   1.   ]\n",
      " [167.6    48.924   1.   ]\n",
      " [182.2    74.745   2.   ]\n",
      " [189.     99.66    2.   ]\n",
      " [193.     86.07    2.   ]\n",
      " [180.3    79.728   2.   ]\n",
      " [165.     81.087   2.   ]\n",
      " [175.     73.839   2.   ]\n",
      " [175.     60.702   2.   ]\n",
      " [198.    110.079   2.   ]\n",
      " [182.     81.993   2.   ]\n",
      " [192.     91.053   2.   ]\n",
      " [175.3    79.728   2.   ]\n",
      " [173.     79.728   2.   ]\n",
      " [162.6    74.745   2.   ]\n",
      " [182.2    79.728   2.   ]\n",
      " [175.3    79.728   2.   ]\n",
      " [174.     76.104   2.   ]\n",
      " [173.     83.805   2.   ]\n",
      " [174.6   120.045   2.   ]\n",
      " [180.     81.087   2.   ]\n",
      " [163.     74.745   2.   ]\n",
      " [191.     88.788   2.   ]\n",
      " [183.     79.728   2.   ]\n",
      " [193.     99.66    2.   ]\n",
      " [182.     78.822   2.   ]\n",
      " [182.9    79.728   2.   ]\n",
      " [178.4    77.916   2.   ]\n",
      " [172.7   149.943   2.   ]\n",
      " [182.9    87.882   2.   ]\n",
      " [176.5    83.805   2.   ]\n",
      " [181.     97.848   2.   ]\n",
      " [162.6    72.027   2.   ]\n",
      " [181.6    84.711   2.   ]\n",
      " [172.7    67.95    2.   ]\n",
      " [183.     77.916   2.   ]\n",
      " [195.6   110.079   2.   ]\n",
      " [172.7    69.762   2.   ]\n",
      " [183.     69.762   2.   ]\n",
      " [176.     77.01    2.   ]\n",
      " [181.     79.728   2.   ]\n",
      " [161.3    54.813   2.   ]\n",
      " [193.04   67.044   2.   ]\n",
      " [193.     77.01    2.   ]\n",
      " [187.     70.215   2.   ]\n",
      " [175.3    68.856   2.   ]\n",
      " [178.     62.967   2.   ]\n",
      " [188.     81.54    2.   ]]\n"
     ]
    }
   ],
   "source": [
    "train = pd.read_csv(\"celebs2.csv\")\n",
    "type(train)\n",
    "X = train.values\n",
    "print(type(X))\n",
    "print(X)\n",
    "X = X[:,0:2]\n"
   ]
  },
  {
   "cell_type": "code",
   "execution_count": 3,
   "metadata": {},
   "outputs": [
    {
     "data": {
      "text/plain": [
       "(90, 2)"
      ]
     },
     "execution_count": 3,
     "metadata": {},
     "output_type": "execute_result"
    }
   ],
   "source": [
    "X.shape"
   ]
  },
  {
   "cell_type": "code",
   "execution_count": 4,
   "metadata": {},
   "outputs": [
    {
     "data": {
      "text/plain": [
       "KMeans(max_iter=400, n_clusters=4)"
      ]
     },
     "execution_count": 4,
     "metadata": {},
     "output_type": "execute_result"
    }
   ],
   "source": [
    "kmeans = KMeans(n_clusters=4, max_iter=400 , algorithm = 'auto')\n",
    "kmeans.fit(X)"
   ]
  },
  {
   "cell_type": "code",
   "execution_count": 5,
   "metadata": {},
   "outputs": [
    {
     "data": {
      "text/plain": [
       "sklearn.cluster._kmeans.KMeans"
      ]
     },
     "execution_count": 5,
     "metadata": {},
     "output_type": "execute_result"
    }
   ],
   "source": [
    "type(kmeans)"
   ]
  },
  {
   "cell_type": "code",
   "execution_count": 6,
   "metadata": {},
   "outputs": [],
   "source": [
    "y_kmeans = kmeans.predict(X)"
   ]
  },
  {
   "cell_type": "code",
   "execution_count": 7,
   "metadata": {},
   "outputs": [
    {
     "data": {
      "image/png": "[encoded data removed]",
      "text/plain": [
       "<Figure size 432x288 with 1 Axes>"
      ]
     },
     "metadata": {
      "needs_background": "light"
     },
     "output_type": "display_data"
    }
   ],
   "source": [
    "plt.scatter(X[:, 0], X[:, 1], c=y_kmeans, s=50, cmap='viridis')\n",
    "\n",
    "centers = kmeans.cluster_centers_\n",
    "plt.scatter(centers[:, 0], centers[:, 1], c='red', s=200, alpha=0.5);"
   ]
  },
  {
   "cell_type": "code",
   "execution_count": 8,
   "metadata": {},
   "outputs": [
    {
     "data": {
      "text/plain": [
       "(90,)"
      ]
     },
     "execution_count": 8,
     "metadata": {},
     "output_type": "execute_result"
    }
   ],
   "source": [
    "y_kmeans.shape"
   ]
  },
  {
   "cell_type": "code",
   "execution_count": 9,
   "metadata": {},
   "outputs": [
    {
     "data": {
      "text/plain": [
       "array([3, 3, 3, 3, 0, 3, 3, 3, 0, 0, 0, 0, 3, 0, 0, 0, 0, 3, 3, 0, 0, 3,\n",
       "       3, 0, 0, 3, 0, 3, 0, 0, 3, 0, 3, 3, 0, 1, 0, 3, 0, 0, 0, 0, 0, 0,\n",
       "       1, 2, 1, 1, 1, 1, 3, 2, 1, 1, 1, 1, 1, 1, 1, 1, 1, 2, 1, 1, 1, 1,\n",
       "       2, 1, 1, 1, 2, 1, 1, 2, 1, 1, 3, 1, 2, 1, 1, 1, 1, 0, 1, 1, 1, 1,\n",
       "       3, 1])"
      ]
     },
     "execution_count": 9,
     "metadata": {},
     "output_type": "execute_result"
    }
   ],
   "source": [
    "y_kmeans"
   ]
  },
  {
   "cell_type": "code",
   "execution_count": 10,
   "metadata": {},
   "outputs": [
    {
     "data": {
      "text/plain": [
       "array([[160.15769231,  50.84053846],\n",
       "       [179.47611111,  78.53258333],\n",
       "       [186.27142857, 112.47342857],\n",
       "       [173.07809524,  56.21514286]])"
      ]
     },
     "execution_count": 10,
     "metadata": {},
     "output_type": "execute_result"
    }
   ],
   "source": [
    "kmeans.cluster_centers_"
   ]
  }
 ],
 "metadata": {
  "kernelspec": {
   "display_name": "Python 3",
   "language": "python",
   "name": "python3"
  },
  "language_info": {
   "codemirror_mode": {
    "name": "ipython",
    "version": 3
   },
   "file_extension": ".py",
   "mimetype": "text/x-python",
   "name": "python",
   "nbconvert_exporter": "python",
   "pygments_lexer": "ipython3",
   "version": "3.8.8"
  }
 },
 "nbformat": 4,
 "nbformat_minor": 2
}
